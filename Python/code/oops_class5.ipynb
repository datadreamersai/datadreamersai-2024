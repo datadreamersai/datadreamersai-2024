{
  "nbformat": 4,
  "nbformat_minor": 0,
  "metadata": {
    "colab": {
      "provenance": []
    },
    "kernelspec": {
      "name": "python3",
      "display_name": "Python 3"
    },
    "language_info": {
      "name": "python"
    }
  },
  "cells": [
    {
      "cell_type": "code",
      "execution_count": 1,
      "metadata": {
        "id": "4CXnzUCsxjEz"
      },
      "outputs": [],
      "source": [
        "from abc import ABC, abstractmethod"
      ]
    },
    {
      "cell_type": "code",
      "source": [
        "class Mobile(ABC):\n",
        "\n",
        "  @abstractmethod\n",
        "  def call(self):\n",
        "    pass\n",
        "\n",
        "  @abstractmethod\n",
        "  def wifi_connection(self):\n",
        "    pass\n",
        "\n",
        "  def fm_radio(self):\n",
        "    self.freq_hz = 93.2\n",
        "    self.antenna = \"radio antenna\"\n",
        "    print(\"tunning with {} and {}\".format(self.freq_hz,self.antenna))\n",
        "\n",
        "\n"
      ],
      "metadata": {
        "id": "mh-D9WfoxxSj"
      },
      "execution_count": 2,
      "outputs": []
    },
    {
      "cell_type": "code",
      "source": [
        "m=Mobile()"
      ],
      "metadata": {
        "colab": {
          "base_uri": "https://localhost:8080/",
          "height": 146
        },
        "id": "pgORmRv6z2d7",
        "outputId": "c417918c-1575-463f-dfe7-33f215af092d"
      },
      "execution_count": 3,
      "outputs": [
        {
          "output_type": "error",
          "ename": "TypeError",
          "evalue": "Can't instantiate abstract class Mobile with abstract methods call, wifi_connection",
          "traceback": [
            "\u001b[0;31m---------------------------------------------------------------------------\u001b[0m",
            "\u001b[0;31mTypeError\u001b[0m                                 Traceback (most recent call last)",
            "\u001b[0;32m<ipython-input-3-2c98d62aaf4c>\u001b[0m in \u001b[0;36m<cell line: 0>\u001b[0;34m()\u001b[0m\n\u001b[0;32m----> 1\u001b[0;31m \u001b[0mm\u001b[0m\u001b[0;34m=\u001b[0m\u001b[0mMobile\u001b[0m\u001b[0;34m(\u001b[0m\u001b[0;34m)\u001b[0m\u001b[0;34m\u001b[0m\u001b[0;34m\u001b[0m\u001b[0m\n\u001b[0m",
            "\u001b[0;31mTypeError\u001b[0m: Can't instantiate abstract class Mobile with abstract methods call, wifi_connection"
          ]
        }
      ]
    },
    {
      "cell_type": "code",
      "source": [
        "class Mobile(ABC):\n",
        "\n",
        "  @abstractmethod\n",
        "  def call(self):\n",
        "    pass\n",
        "\n",
        "  @abstractmethod\n",
        "  def wifi_connection(self):\n",
        "    pass\n",
        "\n",
        "  def fm_radio(self):\n",
        "    self.freq_hz = 93.2\n",
        "    self.antenna = \"radio antenna\"\n",
        "    print(\"tunning with {} and {}\".format(self.freq_hz,self.antenna))\n",
        "\n",
        "\n",
        "\n",
        "class Iphone(Mobile):\n",
        "\n",
        "  def call(self):\n",
        "    print(\"I am calling to my friend\")\n",
        "\n",
        "  def wifi_connection(self):\n",
        "    print(\"I am connected to wifi\")\n",
        ""
      ],
      "metadata": {
        "id": "EhEFA3d8z5Rf"
      },
      "execution_count": 4,
      "outputs": []
    },
    {
      "cell_type": "code",
      "source": [
        "i1 = Iphone()"
      ],
      "metadata": {
        "id": "tu9SLsOs01yN"
      },
      "execution_count": 5,
      "outputs": []
    },
    {
      "cell_type": "code",
      "source": [
        "i1.call()"
      ],
      "metadata": {
        "colab": {
          "base_uri": "https://localhost:8080/"
        },
        "id": "iNxhexON05pS",
        "outputId": "11e4f1ae-e5f5-4f87-c17c-478393930268"
      },
      "execution_count": 6,
      "outputs": [
        {
          "output_type": "stream",
          "name": "stdout",
          "text": [
            "I am calling to my friend\n"
          ]
        }
      ]
    },
    {
      "cell_type": "code",
      "source": [
        "i1.wifi_connection()"
      ],
      "metadata": {
        "colab": {
          "base_uri": "https://localhost:8080/"
        },
        "id": "7oFg4kt907qb",
        "outputId": "4a8d8faf-2ec9-47ac-94d0-00d0081d81eb"
      },
      "execution_count": 7,
      "outputs": [
        {
          "output_type": "stream",
          "name": "stdout",
          "text": [
            "I am connected to wifi\n"
          ]
        }
      ]
    },
    {
      "cell_type": "code",
      "source": [
        "i1.fm_radio()"
      ],
      "metadata": {
        "colab": {
          "base_uri": "https://localhost:8080/"
        },
        "id": "y7tSQ3QR09Yk",
        "outputId": "2f0ae403-e152-476a-e35a-1d620e4d4997"
      },
      "execution_count": 8,
      "outputs": [
        {
          "output_type": "stream",
          "name": "stdout",
          "text": [
            "tunning with 93.2 and radio antenna\n"
          ]
        }
      ]
    },
    {
      "cell_type": "code",
      "source": [
        "class Mobile(ABC):\n",
        "\n",
        "  @abstractmethod\n",
        "  def call(self):\n",
        "    pass\n",
        "\n",
        "  @abstractmethod\n",
        "  def wifi_connection(self):\n",
        "    pass\n",
        "\n",
        "\n",
        "  def fm_radio(self):\n",
        "    self.freq_hz = 93.2\n",
        "    self.antenna = \"radio antenna\"\n",
        "    print(\"tunning with {} and {}\".format(self.freq_hz,self.antenna))\n",
        "\n",
        "\n",
        "\n",
        "class Iphone(Mobile):\n",
        "\n",
        "  def call(self):\n",
        "    print(\"I am calling to my friend\")\n",
        "\n",
        "\n",
        "\n",
        ""
      ],
      "metadata": {
        "id": "q7i_SJUF0_GP"
      },
      "execution_count": 21,
      "outputs": []
    },
    {
      "cell_type": "code",
      "source": [
        "i1=Iphone()"
      ],
      "metadata": {
        "colab": {
          "base_uri": "https://localhost:8080/",
          "height": 146
        },
        "id": "lK65l7J91JNK",
        "outputId": "45640dae-0925-4e00-849e-a0a6067b49fc"
      },
      "execution_count": 22,
      "outputs": [
        {
          "output_type": "error",
          "ename": "TypeError",
          "evalue": "Can't instantiate abstract class Iphone with abstract method wifi_connection",
          "traceback": [
            "\u001b[0;31m---------------------------------------------------------------------------\u001b[0m",
            "\u001b[0;31mTypeError\u001b[0m                                 Traceback (most recent call last)",
            "\u001b[0;32m<ipython-input-22-a19ff8eb594e>\u001b[0m in \u001b[0;36m<cell line: 0>\u001b[0;34m()\u001b[0m\n\u001b[0;32m----> 1\u001b[0;31m \u001b[0mi1\u001b[0m\u001b[0;34m=\u001b[0m\u001b[0mIphone\u001b[0m\u001b[0;34m(\u001b[0m\u001b[0;34m)\u001b[0m\u001b[0;34m\u001b[0m\u001b[0;34m\u001b[0m\u001b[0m\n\u001b[0m",
            "\u001b[0;31mTypeError\u001b[0m: Can't instantiate abstract class Iphone with abstract method wifi_connection"
          ]
        }
      ]
    },
    {
      "cell_type": "code",
      "source": [
        "class Vehicle(ABC):\n",
        "\n",
        "  @abstractmethod\n",
        "  def start(self):\n",
        "    pass\n",
        "\n",
        "  @abstractmethod\n",
        "  def stop(self):\n",
        "    pass\n",
        "\n",
        "  @abstractmethod\n",
        "  def drive(self):\n",
        "    pass\n",
        "\n",
        "\n",
        "class Honda(Vehicle):\n",
        "\n",
        "  def start(self):\n",
        "    print(\"I am starting Honda\")\n",
        "\n",
        "  def stop(self):\n",
        "    print(\"I am stopping Honda\")\n",
        "\n",
        "\n",
        "class Honda_City(Honda):\n",
        "\n",
        "  def drive(self):\n",
        "    print(\"I am driving Honda City\")\n"
      ],
      "metadata": {
        "id": "A-40uBff1MD7"
      },
      "execution_count": 27,
      "outputs": []
    },
    {
      "cell_type": "code",
      "source": [
        "v=Vehicle()"
      ],
      "metadata": {
        "colab": {
          "base_uri": "https://localhost:8080/",
          "height": 146
        },
        "id": "A4pBNyee2vGA",
        "outputId": "797ae823-977d-4b1e-df76-2ab2340bef65"
      },
      "execution_count": 29,
      "outputs": [
        {
          "output_type": "error",
          "ename": "TypeError",
          "evalue": "Can't instantiate abstract class Vehicle with abstract methods drive, start, stop",
          "traceback": [
            "\u001b[0;31m---------------------------------------------------------------------------\u001b[0m",
            "\u001b[0;31mTypeError\u001b[0m                                 Traceback (most recent call last)",
            "\u001b[0;32m<ipython-input-29-acb4a091bb6c>\u001b[0m in \u001b[0;36m<cell line: 0>\u001b[0;34m()\u001b[0m\n\u001b[0;32m----> 1\u001b[0;31m \u001b[0mv\u001b[0m\u001b[0;34m=\u001b[0m\u001b[0mVehicle\u001b[0m\u001b[0;34m(\u001b[0m\u001b[0;34m)\u001b[0m\u001b[0;34m\u001b[0m\u001b[0;34m\u001b[0m\u001b[0m\n\u001b[0m",
            "\u001b[0;31mTypeError\u001b[0m: Can't instantiate abstract class Vehicle with abstract methods drive, start, stop"
          ]
        }
      ]
    },
    {
      "cell_type": "code",
      "source": [
        "h=Honda()"
      ],
      "metadata": {
        "colab": {
          "base_uri": "https://localhost:8080/",
          "height": 146
        },
        "id": "Lck7yQBj2wVE",
        "outputId": "4b56ec74-38d2-45c1-dd6c-36ed9c1dd08e"
      },
      "execution_count": 30,
      "outputs": [
        {
          "output_type": "error",
          "ename": "TypeError",
          "evalue": "Can't instantiate abstract class Honda with abstract method drive",
          "traceback": [
            "\u001b[0;31m---------------------------------------------------------------------------\u001b[0m",
            "\u001b[0;31mTypeError\u001b[0m                                 Traceback (most recent call last)",
            "\u001b[0;32m<ipython-input-30-3190ae695035>\u001b[0m in \u001b[0;36m<cell line: 0>\u001b[0;34m()\u001b[0m\n\u001b[0;32m----> 1\u001b[0;31m \u001b[0mh\u001b[0m\u001b[0;34m=\u001b[0m\u001b[0mHonda\u001b[0m\u001b[0;34m(\u001b[0m\u001b[0;34m)\u001b[0m\u001b[0;34m\u001b[0m\u001b[0;34m\u001b[0m\u001b[0m\n\u001b[0m",
            "\u001b[0;31mTypeError\u001b[0m: Can't instantiate abstract class Honda with abstract method drive"
          ]
        }
      ]
    },
    {
      "cell_type": "code",
      "source": [
        "hc1 = Honda_City()"
      ],
      "metadata": {
        "id": "7b5DeYfC21Qp"
      },
      "execution_count": 31,
      "outputs": []
    },
    {
      "cell_type": "markdown",
      "source": [
        "**How it is different from Inheritance?**"
      ],
      "metadata": {
        "id": "mgaN0Mzz4cb1"
      }
    },
    {
      "cell_type": "code",
      "source": [
        "class Vehicle():\n",
        " @abstractmethod\n",
        "  def start(self):\n",
        "    pass\n",
        "\n",
        "class Honda(Vehicle):\n",
        "  def drive(self):\n",
        "    print(\"I am driving Honda\")\n",
        "\n"
      ],
      "metadata": {
        "id": "YZEfPoK035rz"
      },
      "execution_count": 41,
      "outputs": []
    },
    {
      "cell_type": "code",
      "source": [
        "h=Honda()"
      ],
      "metadata": {
        "id": "JFLad5ep4zzV"
      },
      "execution_count": 42,
      "outputs": []
    },
    {
      "cell_type": "code",
      "source": [
        "h.drive()"
      ],
      "metadata": {
        "colab": {
          "base_uri": "https://localhost:8080/"
        },
        "id": "TDh6Uo2b43X8",
        "outputId": "6a1f86fb-b411-4f1b-fe9d-605c1d08e75a"
      },
      "execution_count": 38,
      "outputs": [
        {
          "output_type": "stream",
          "name": "stdout",
          "text": [
            "I am driving Honda\n"
          ]
        }
      ]
    },
    {
      "cell_type": "code",
      "source": [
        "from abc import ABC, abstractmethod"
      ],
      "metadata": {
        "id": "ciz6AbEw44hQ"
      },
      "execution_count": 43,
      "outputs": []
    },
    {
      "cell_type": "code",
      "source": [
        "class ATM(ABC):\n",
        "\n",
        "  @abstractmethod\n",
        "  def check_balance(self):\n",
        "    pass\n",
        "\n",
        "  def change_pin(self):\n",
        "    print(\"I am changing pin\")\n",
        "\n",
        "  def block_card(self):\n",
        "    print(\"I am blocking card\")"
      ],
      "metadata": {
        "id": "lRhG-SYa770J"
      },
      "execution_count": null,
      "outputs": []
    }
  ]
}