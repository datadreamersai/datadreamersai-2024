{
  "nbformat": 4,
  "nbformat_minor": 0,
  "metadata": {
    "colab": {
      "provenance": []
    },
    "kernelspec": {
      "name": "python3",
      "display_name": "Python 3"
    },
    "language_info": {
      "name": "python"
    }
  },
  "cells": [
    {
      "cell_type": "markdown",
      "source": [
        "**Building Geometry custom data type**"
      ],
      "metadata": {
        "id": "MDj8wQR36DFr"
      }
    },
    {
      "cell_type": "code",
      "source": [
        "class Point():\n",
        "\n",
        "  def __init__(self,a,b):\n",
        "    self.x_cord = a\n",
        "    self.y_cord = b\n",
        "\n",
        "  def __str__(self):\n",
        "    return \"<{},{}>\".format(self.x_cord,self.y_cord)\n",
        "\n",
        "\n",
        "  def distance_between_points(self,other):\n",
        "    return ((self.x_cord - other.x_cord)**2 + (self.y_cord - other.y_cord)**2)**0.5\n",
        "\n",
        "\n",
        "  def distance_from_point_to_origin(self):\n",
        "    # return (self.x_cord**2 + self.y_cord**2)**0.5\n",
        "    return self.distance_between_points(Point(0,0))\n",
        "\n",
        "\n",
        "  def mid_points(self,other):\n",
        "    return (self.x_cord + other.x_cord)/2,(self.y_cord + other.y_cord)/2\n",
        "\n",
        "\n",
        "\n",
        "class Line():\n",
        "\n",
        "  def __init__(self,A,B,C):\n",
        "    self.A = A\n",
        "    self.B = B\n",
        "    self.C = C\n",
        "\n",
        "  def __str__(self):\n",
        "    return \"{}x + {}y + {} = 0\".format(self.A,self.B,self.C)\n",
        "\n",
        "\n",
        "  def distance_from_point_to_line(self,point):\n",
        "    numerator = abs(self.A*point.x_cord + self.B*point.y_cord + self.C)\n",
        "    denominator = (self.A**2 + self.B**2)**0.5\n",
        "    return numerator/denominator\n",
        "\n",
        "\n",
        "  def point_exists_on_line(self,point):\n",
        "    if self.A*point.x_cord + self.B*point.y_cord + self.C == 0:\n",
        "      return \"given point exists on line\"\n",
        "    else:\n",
        "      return \"given point doesn't exists on line\"\n",
        "\n",
        "\n",
        "\n",
        "\n",
        "\n",
        "\n",
        "\n",
        ""
      ],
      "metadata": {
        "id": "tsxu44ZZ6JXd"
      },
      "execution_count": 41,
      "outputs": []
    },
    {
      "cell_type": "code",
      "source": [
        "p1=Point(2,3)\n",
        "print(p1)"
      ],
      "metadata": {
        "colab": {
          "base_uri": "https://localhost:8080/"
        },
        "id": "pMCEoGah67fn",
        "outputId": "880ad490-3a6d-4a33-bdec-3ab90047ab04"
      },
      "execution_count": 42,
      "outputs": [
        {
          "output_type": "stream",
          "name": "stdout",
          "text": [
            "<2,3>\n"
          ]
        }
      ]
    },
    {
      "cell_type": "code",
      "source": [
        "p2=Point(1,1)\n",
        "print(p2)"
      ],
      "metadata": {
        "colab": {
          "base_uri": "https://localhost:8080/"
        },
        "id": "t7TaWhFd8Fyx",
        "outputId": "b4e02da5-51ec-4e49-8dbe-51a19569aeae"
      },
      "execution_count": 43,
      "outputs": [
        {
          "output_type": "stream",
          "name": "stdout",
          "text": [
            "<1,1>\n"
          ]
        }
      ]
    },
    {
      "cell_type": "code",
      "source": [
        "p1.distance_between_points(p2)"
      ],
      "metadata": {
        "colab": {
          "base_uri": "https://localhost:8080/"
        },
        "id": "kK9-HyFg8RV9",
        "outputId": "716e3f6a-903a-4122-94bf-3fcdd25eac88"
      },
      "execution_count": 15,
      "outputs": [
        {
          "output_type": "execute_result",
          "data": {
            "text/plain": [
              "2.23606797749979"
            ]
          },
          "metadata": {},
          "execution_count": 15
        }
      ]
    },
    {
      "cell_type": "code",
      "source": [
        "l1 = Line(1,1,-2)\n",
        "print(l1)"
      ],
      "metadata": {
        "colab": {
          "base_uri": "https://localhost:8080/"
        },
        "id": "7sEJStyY6-1z",
        "outputId": "25522f87-7f1b-495f-a5d4-ae268831b2ac"
      },
      "execution_count": 26,
      "outputs": [
        {
          "output_type": "stream",
          "name": "stdout",
          "text": [
            "1x + 1y + -2 = 0\n"
          ]
        }
      ]
    },
    {
      "cell_type": "code",
      "source": [
        "l1.distance_from_point_to_line(p1)"
      ],
      "metadata": {
        "colab": {
          "base_uri": "https://localhost:8080/"
        },
        "id": "uBA2-2wD-dJf",
        "outputId": "20cc928c-6399-4eed-d41c-d6c46d4e12c4"
      },
      "execution_count": 23,
      "outputs": [
        {
          "output_type": "execute_result",
          "data": {
            "text/plain": [
              "2.1213203435596424"
            ]
          },
          "metadata": {},
          "execution_count": 23
        }
      ]
    },
    {
      "cell_type": "code",
      "source": [
        "l1.point_exists_on_line(p2)"
      ],
      "metadata": {
        "colab": {
          "base_uri": "https://localhost:8080/",
          "height": 36
        },
        "id": "km5VHEQa_iXt",
        "outputId": "d1d926f5-f2a7-43c9-a2d4-dda09fc65b5c"
      },
      "execution_count": 30,
      "outputs": [
        {
          "output_type": "execute_result",
          "data": {
            "text/plain": [
              "'given point exists on line'"
            ],
            "application/vnd.google.colaboratory.intrinsic+json": {
              "type": "string"
            }
          },
          "metadata": {},
          "execution_count": 30
        }
      ]
    },
    {
      "cell_type": "code",
      "source": [
        "p1.distance_from_point_to_origin()"
      ],
      "metadata": {
        "colab": {
          "base_uri": "https://localhost:8080/"
        },
        "id": "NCUxuan6_lLt",
        "outputId": "5997d9d7-ba82-40d7-e653-525788b57a86"
      },
      "execution_count": 40,
      "outputs": [
        {
          "output_type": "execute_result",
          "data": {
            "text/plain": [
              "3.605551275463989"
            ]
          },
          "metadata": {},
          "execution_count": 40
        }
      ]
    },
    {
      "cell_type": "code",
      "source": [
        "p1.mid_points(p2)"
      ],
      "metadata": {
        "colab": {
          "base_uri": "https://localhost:8080/"
        },
        "id": "jlctABf3B3Hp",
        "outputId": "e7ea85b2-6eca-4cd9-ca3d-fe63ef3e5e72"
      },
      "execution_count": 44,
      "outputs": [
        {
          "output_type": "execute_result",
          "data": {
            "text/plain": [
              "(1.5, 2.0)"
            ]
          },
          "metadata": {},
          "execution_count": 44
        }
      ]
    },
    {
      "cell_type": "code",
      "source": [
        "class BankAccount:\n",
        "    def __init__(self, account_number, balance):\n",
        "        self.account_number = account_number\n",
        "        self.__balance = balance  # Private variable\n",
        "\n",
        "    def deposit(self, amount):\n",
        "        if amount > 0:\n",
        "            self.__balance += amount\n",
        "        else:\n",
        "            print(\"Deposit amount must be positive.\")\n",
        "\n",
        "    def withdraw(self, amount):\n",
        "        if 0 < amount <= self.__balance:\n",
        "            self.__balance -= amount\n",
        "        else:\n",
        "            print(\"Insufficient balance or invalid amount.\")\n",
        "\n",
        "    def get_balance(self):\n",
        "        return self.__balance\n",
        "\n",
        "# Testing Encapsulation\n",
        "account = BankAccount(\"123456\", 1000)\n",
        "print(account.get_balance())  # Output?\n",
        "\n",
        "account.deposit(500)\n",
        "print(account.get_balance())  # Output?\n",
        "\n",
        "account.withdraw(300)\n",
        "print(account.get_balance())  # Output?\n",
        "\n",
        "# Trying to access private variable directly\n",
        "print(account.__balance)  # What happens here?\n"
      ],
      "metadata": {
        "id": "4FNilGcl5n25"
      },
      "execution_count": null,
      "outputs": []
    },
    {
      "cell_type": "code",
      "source": [
        "class Student:\n",
        "    def __init__(self, name, roll_no):\n",
        "        self.name = name\n",
        "        self.roll_no = roll_no\n",
        "        self.__marks = 0  # Private attribute\n",
        "\n",
        "    def set_marks(self, marks):\n",
        "        if 0 <= marks <= 100:\n",
        "            self.__marks = marks\n",
        "        else:\n",
        "            print(\"Invalid marks. Must be between 0 and 100.\")\n",
        "\n",
        "    def get_marks(self):\n",
        "        return self.__marks\n",
        "\n",
        "# Testing\n",
        "student = Student(\"Alice\", 101)\n",
        "student.set_marks(85)\n",
        "print(student.get_marks())  # Output?\n",
        "\n",
        "student.set_marks(150)  # What happens here?\n",
        "print(student.get_marks())  # Output?\n"
      ],
      "metadata": {
        "id": "K9AUTfp25sMH"
      },
      "execution_count": null,
      "outputs": []
    },
    {
      "cell_type": "code",
      "source": [
        "class Employee:\n",
        "    def __init__(self, name, salary):\n",
        "        self.name = name\n",
        "        self.__salary = salary  # Private attribute\n",
        "\n",
        "    def get_salary(self):\n",
        "        return self.__salary\n",
        "\n",
        "    def set_salary(self, amount):\n",
        "        if amount > self.__salary:\n",
        "            self.__salary = amount\n",
        "        else:\n",
        "            print(\"New salary must be higher than the current salary.\")\n",
        "\n",
        "# Testing\n",
        "emp = Employee(\"John\", 50000)\n",
        "print(emp.get_salary())  # Output?\n",
        "\n",
        "emp.set_salary(55000)\n",
        "print(emp.get_salary())  # Output?\n",
        "\n",
        "emp.set_salary(40000)  # What happens here?\n",
        "print(emp.get_salary())  # Output?\n"
      ],
      "metadata": {
        "id": "nc0xCxEn5vim"
      },
      "execution_count": null,
      "outputs": []
    },
    {
      "cell_type": "code",
      "source": [
        "class Car:\n",
        "    def __init__(self):\n",
        "        self.__speed = 0  # Private variable\n",
        "\n",
        "    def accelerate(self, value):\n",
        "        if self.__speed + value <= 200:\n",
        "            self.__speed += value\n",
        "        else:\n",
        "            print(\"Speed limit exceeded!\")\n",
        "\n",
        "    def brake(self, value):\n",
        "        if self.__speed - value >= 0:\n",
        "            self.__speed -= value\n",
        "        else:\n",
        "            print(\"Speed cannot be negative!\")\n",
        "\n",
        "    def get_speed(self):\n",
        "        return self.__speed\n",
        "\n",
        "# Testing\n",
        "car = Car()\n",
        "car.accelerate(50)\n",
        "print(car.get_speed())  # Output?\n",
        "\n",
        "car.accelerate(160)\n",
        "print(car.get_speed())  # Output?\n",
        "\n",
        "car.brake(30)\n",
        "print(car.get_speed())  # Output?\n",
        "\n",
        "car.brake(200)  # What happens here?\n",
        "print(car.get_speed())  # Output?\n"
      ],
      "metadata": {
        "id": "gCY3uMTi5zmV"
      },
      "execution_count": null,
      "outputs": []
    },
    {
      "cell_type": "code",
      "source": [
        "class UserAccount:\n",
        "    def __init__(self, username):\n",
        "        self.username = username\n",
        "        self.__password = None  # Private attribute\n",
        "\n",
        "    def set_password(self, password):\n",
        "        if len(password) >= 8 and any(char.isupper() for char in password):\n",
        "            self.__password = password\n",
        "            print(\"Password set successfully.\")\n",
        "        else:\n",
        "            print(\"Password must be at least 8 characters long and contain an uppercase letter.\")\n",
        "\n",
        "    def get_password(self):\n",
        "        return self.__password  # In real applications, avoid exposing passwords\n",
        "\n",
        "# Testing\n",
        "user = UserAccount(\"data_dreamer\")\n",
        "user.set_password(\"password\")  # What happens here?\n",
        "user.set_password(\"SecurePass1\")  # What happens here?\n",
        "print(user.get_password())  # Output?\n"
      ],
      "metadata": {
        "id": "BaFPjisx5338"
      },
      "execution_count": null,
      "outputs": []
    }
  ]
}