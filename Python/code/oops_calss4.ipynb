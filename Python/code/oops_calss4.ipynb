{
  "nbformat": 4,
  "nbformat_minor": 0,
  "metadata": {
    "colab": {
      "provenance": []
    },
    "kernelspec": {
      "name": "python3",
      "display_name": "Python 3"
    },
    "language_info": {
      "name": "python"
    }
  },
  "cells": [
    {
      "cell_type": "markdown",
      "source": [
        "**Inheritance**"
      ],
      "metadata": {
        "id": "XyziL37NPg9Z"
      }
    },
    {
      "cell_type": "code",
      "source": [
        "class Parent():\n",
        "  def property(self):\n",
        "    amount=1000000\n",
        "    return amount\n",
        "\n",
        "\n",
        "\n",
        "class Child(Parent):\n",
        "  pass\n"
      ],
      "metadata": {
        "id": "o0PuBeUYPjs7"
      },
      "execution_count": 3,
      "outputs": []
    },
    {
      "cell_type": "code",
      "source": [
        "c=Child()"
      ],
      "metadata": {
        "id": "oCO2SGkPP0m3"
      },
      "execution_count": 4,
      "outputs": []
    },
    {
      "cell_type": "code",
      "source": [
        "c.property()"
      ],
      "metadata": {
        "colab": {
          "base_uri": "https://localhost:8080/"
        },
        "id": "iFMk7tbcP8p6",
        "outputId": "054e0e01-e570-4e31-d529-5053bf609c2a"
      },
      "execution_count": 5,
      "outputs": [
        {
          "output_type": "execute_result",
          "data": {
            "text/plain": [
              "1000000"
            ]
          },
          "metadata": {},
          "execution_count": 5
        }
      ]
    },
    {
      "cell_type": "markdown",
      "source": [
        "**Accessing Parent class public methods from the child class**"
      ],
      "metadata": {
        "id": "uw6I2aZBT8tE"
      }
    },
    {
      "cell_type": "code",
      "source": [
        "class Car():\n",
        "  # def __init__(self,type_of_car,model,year):\n",
        "  #   self.type_of_car=type_of_car\n",
        "  #   self.model=model\n",
        "  #   self.year=year\n",
        "\n",
        "  def engine_func(self):\n",
        "    print(\"modifed functionlaity of engine\")\n",
        "\n",
        "  def speed_func(self):\n",
        "    print(\"I have functionality of speed\")\n",
        "\n",
        "  def color_func(self):\n",
        "    print(\"I have functionality of color\")\n",
        "\n",
        "\n",
        "\n",
        "class HondaCity(Car):\n",
        "\n",
        "\n",
        "  def bluetooth_func(self):\n",
        "    print(\"I have functionality of bluetooth\")\n",
        "\n",
        "  def music_func(self):\n",
        "    print(\"I have functionality of music\")\n"
      ],
      "metadata": {
        "id": "A0n7XQ9mQZ4Y"
      },
      "execution_count": 15,
      "outputs": []
    },
    {
      "cell_type": "code",
      "source": [
        "h = HondaCity()"
      ],
      "metadata": {
        "id": "wLJxJDVHRJms"
      },
      "execution_count": 16,
      "outputs": []
    },
    {
      "cell_type": "code",
      "source": [
        "h.engine_func()"
      ],
      "metadata": {
        "colab": {
          "base_uri": "https://localhost:8080/"
        },
        "id": "S8RHBVFSRN3z",
        "outputId": "f4926e3a-e96f-4cde-ebb3-4172a2a989d1"
      },
      "execution_count": 17,
      "outputs": [
        {
          "output_type": "stream",
          "name": "stdout",
          "text": [
            "modifed functionlaity of engine\n"
          ]
        }
      ]
    },
    {
      "cell_type": "code",
      "source": [
        "h.color_func()"
      ],
      "metadata": {
        "colab": {
          "base_uri": "https://localhost:8080/"
        },
        "id": "wHF9G-xLS-42",
        "outputId": "589846e4-d9cd-4932-c325-590b6842e7fc"
      },
      "execution_count": 11,
      "outputs": [
        {
          "output_type": "stream",
          "name": "stdout",
          "text": [
            "I have functionality of color\n"
          ]
        }
      ]
    },
    {
      "cell_type": "code",
      "source": [
        "h.speed_func()"
      ],
      "metadata": {
        "colab": {
          "base_uri": "https://localhost:8080/"
        },
        "id": "HzNhYtK-TAnJ",
        "outputId": "d77d37cc-c9c6-4620-fe1e-5d36835f0ec7"
      },
      "execution_count": 12,
      "outputs": [
        {
          "output_type": "stream",
          "name": "stdout",
          "text": [
            "I have functionality of speed\n"
          ]
        }
      ]
    },
    {
      "cell_type": "code",
      "source": [
        "h.color_func()"
      ],
      "metadata": {
        "colab": {
          "base_uri": "https://localhost:8080/"
        },
        "id": "B8OirFIETCPw",
        "outputId": "27f646a5-6434-44e9-d1f6-359be983f677"
      },
      "execution_count": 13,
      "outputs": [
        {
          "output_type": "stream",
          "name": "stdout",
          "text": [
            "I have functionality of color\n"
          ]
        }
      ]
    },
    {
      "cell_type": "code",
      "source": [
        "h.music_func()"
      ],
      "metadata": {
        "colab": {
          "base_uri": "https://localhost:8080/"
        },
        "id": "Hq5WAt6nTFBL",
        "outputId": "4cd2682b-47c5-4435-8ea2-f2f613c5557c"
      },
      "execution_count": 14,
      "outputs": [
        {
          "output_type": "stream",
          "name": "stdout",
          "text": [
            "I have functionality of music\n"
          ]
        }
      ]
    },
    {
      "cell_type": "markdown",
      "source": [
        "**Calling Parent class constructor from the child class object**"
      ],
      "metadata": {
        "id": "eWNwgCQcURmK"
      }
    },
    {
      "cell_type": "code",
      "source": [
        "class Car():\n",
        "  def __init__(self,type_of_car,model,year):\n",
        "    self.type_of_car=type_of_car\n",
        "    self.model=model\n",
        "    self.year=year\n",
        "\n",
        "  def engine_func(self):\n",
        "    print(\"modifed functionlaity of engine\")\n",
        "\n",
        "  def speed_func(self):\n",
        "    print(\"I have functionality of speed\")\n",
        "\n",
        "  def color_func(self):\n",
        "    print(\"I have functionality of color\")\n",
        "\n",
        "\n",
        "\n",
        "class HondaCity(Car):\n",
        "\n",
        "\n",
        "  def bluetooth_func(self):\n",
        "    print(\"I have functionality of bluetooth\")\n",
        "\n",
        "  def music_func(self):\n",
        "    print(\"I have functionality of music\")"
      ],
      "metadata": {
        "id": "ylKDXipnT6wE"
      },
      "execution_count": 19,
      "outputs": []
    },
    {
      "cell_type": "code",
      "source": [
        "h=HondaCity(\"sedan\",\"2019\",\"2019\")"
      ],
      "metadata": {
        "id": "qwhbmlv7UNWX"
      },
      "execution_count": 21,
      "outputs": []
    },
    {
      "cell_type": "code",
      "source": [
        "h.type_of_car"
      ],
      "metadata": {
        "colab": {
          "base_uri": "https://localhost:8080/",
          "height": 36
        },
        "id": "3JYs8J94UZr-",
        "outputId": "4a1aded4-1fb4-4fb2-dcd3-8bea82ac6119"
      },
      "execution_count": 22,
      "outputs": [
        {
          "output_type": "execute_result",
          "data": {
            "text/plain": [
              "'sedan'"
            ],
            "application/vnd.google.colaboratory.intrinsic+json": {
              "type": "string"
            }
          },
          "metadata": {},
          "execution_count": 22
        }
      ]
    },
    {
      "cell_type": "code",
      "source": [
        "h.model"
      ],
      "metadata": {
        "colab": {
          "base_uri": "https://localhost:8080/",
          "height": 36
        },
        "id": "WESa-wxRVMNA",
        "outputId": "2d6e85a7-6875-4832-fc5f-795f7a08ece0"
      },
      "execution_count": 24,
      "outputs": [
        {
          "output_type": "execute_result",
          "data": {
            "text/plain": [
              "'2019'"
            ],
            "application/vnd.google.colaboratory.intrinsic+json": {
              "type": "string"
            }
          },
          "metadata": {},
          "execution_count": 24
        }
      ]
    },
    {
      "cell_type": "code",
      "source": [
        "h.year"
      ],
      "metadata": {
        "colab": {
          "base_uri": "https://localhost:8080/",
          "height": 36
        },
        "id": "lWB8ofDCVQYu",
        "outputId": "744c5908-7e33-458b-f1c4-2dd52efdc463"
      },
      "execution_count": 25,
      "outputs": [
        {
          "output_type": "execute_result",
          "data": {
            "text/plain": [
              "'2019'"
            ],
            "application/vnd.google.colaboratory.intrinsic+json": {
              "type": "string"
            }
          },
          "metadata": {},
          "execution_count": 25
        }
      ]
    },
    {
      "cell_type": "markdown",
      "source": [
        "**super()**"
      ],
      "metadata": {
        "id": "qjBVY5RqVl6X"
      }
    },
    {
      "cell_type": "code",
      "source": [
        "class Car():\n",
        "  def __init__(self,type_of_car,model,year):\n",
        "    self.type_of_car=type_of_car\n",
        "    self.model=model\n",
        "    self.year=year\n",
        "\n",
        "  def engine_func(self):\n",
        "    print(\"modifed functionlaity of engine\")\n",
        "\n",
        "  def speed_func(self):\n",
        "    print(\"I have functionality of speed\")\n",
        "\n",
        "  def color_func(self):\n",
        "    print(\"I have functionality of color\")\n",
        "\n",
        "\n",
        "\n",
        "class HondaCity(Car):\n",
        "\n",
        "  def __init__(self,price):\n",
        "    self.price=price\n",
        "    super().__init__(\"sedan\",\"2019\",\"2019\")\n",
        "\n",
        "\n",
        "  def bluetooth_func(self):\n",
        "    super().year\n",
        "    super().engine_func()\n",
        "    print(\"I have functionality of bluetooth\")\n",
        "\n",
        "  def music_func(self):\n",
        "    print(\"I have functionality of music\")"
      ],
      "metadata": {
        "id": "QErC9oVsVUc1"
      },
      "execution_count": 39,
      "outputs": []
    },
    {
      "cell_type": "code",
      "source": [
        "h=HondaCity(1000000)"
      ],
      "metadata": {
        "id": "7vMiOJHvVxiD"
      },
      "execution_count": 44,
      "outputs": []
    },
    {
      "cell_type": "code",
      "source": [
        "h.year"
      ],
      "metadata": {
        "colab": {
          "base_uri": "https://localhost:8080/",
          "height": 36
        },
        "id": "xosEO8dUWHa9",
        "outputId": "d940681e-3101-4b04-d458-a134f81e540f"
      },
      "execution_count": 45,
      "outputs": [
        {
          "output_type": "execute_result",
          "data": {
            "text/plain": [
              "'2019'"
            ],
            "application/vnd.google.colaboratory.intrinsic+json": {
              "type": "string"
            }
          },
          "metadata": {},
          "execution_count": 45
        }
      ]
    },
    {
      "cell_type": "code",
      "source": [
        "h.bluetooth_func()"
      ],
      "metadata": {
        "colab": {
          "base_uri": "https://localhost:8080/"
        },
        "id": "uKu4tmzpW4R-",
        "outputId": "a0f8ac3b-0aa8-4cd4-fea5-2b55e9c3f3a4"
      },
      "execution_count": 46,
      "outputs": [
        {
          "output_type": "stream",
          "name": "stdout",
          "text": [
            "modifed functionlaity of engine\n",
            "I have functionality of bluetooth\n"
          ]
        }
      ]
    },
    {
      "cell_type": "code",
      "source": [
        "super().year"
      ],
      "metadata": {
        "colab": {
          "base_uri": "https://localhost:8080/",
          "height": 146
        },
        "id": "s1JSX8AjXJKK",
        "outputId": "6a29dca1-0f15-498e-fba4-cdce7fea487d"
      },
      "execution_count": 43,
      "outputs": [
        {
          "output_type": "error",
          "ename": "RuntimeError",
          "evalue": "super(): no arguments",
          "traceback": [
            "\u001b[0;31m---------------------------------------------------------------------------\u001b[0m",
            "\u001b[0;31mRuntimeError\u001b[0m                              Traceback (most recent call last)",
            "\u001b[0;32m<ipython-input-43-72a251c06b23>\u001b[0m in \u001b[0;36m<cell line: 0>\u001b[0;34m()\u001b[0m\n\u001b[0;32m----> 1\u001b[0;31m \u001b[0msuper\u001b[0m\u001b[0;34m(\u001b[0m\u001b[0;34m)\u001b[0m\u001b[0;34m.\u001b[0m\u001b[0myear\u001b[0m\u001b[0;34m\u001b[0m\u001b[0;34m\u001b[0m\u001b[0m\n\u001b[0m",
            "\u001b[0;31mRuntimeError\u001b[0m: super(): no arguments"
          ]
        }
      ]
    },
    {
      "cell_type": "code",
      "source": [
        "class Parent():\n",
        "\n",
        "  def __init__(self,a,b):\n",
        "    self.__a=a\n",
        "    self.b=b\n",
        "\n",
        "  def parent_sample1(self):\n",
        "    return \"I am parent public sample1\"\n",
        "\n",
        "  def __parent_sample2(self):\n",
        "    return \"I am parent private sample2\"\n",
        "\n",
        "  def parent_sample3(self):\n",
        "    return self.__parent_sample2()\n",
        "\n",
        "\n",
        "class Child(Parent):\n",
        "  def child_sample1(self):\n",
        "    return \"I am child public sample1\"\n",
        "\n",
        "  def child_sample2(self):\n",
        "    print(\"I am child class public sample2 method\")\n",
        "    return self.__parent_sample2()\n",
        "\n",
        "  def child_sample3(self):\n",
        "    return self.parent_sample3()"
      ],
      "metadata": {
        "id": "_PjhoytuIrUC"
      },
      "execution_count": 27,
      "outputs": []
    },
    {
      "cell_type": "code",
      "source": [
        "c=Child(2,3)"
      ],
      "metadata": {
        "id": "vdk1secwPXwy"
      },
      "execution_count": 28,
      "outputs": []
    },
    {
      "cell_type": "code",
      "source": [
        "c.child_sample1()"
      ],
      "metadata": {
        "colab": {
          "base_uri": "https://localhost:8080/",
          "height": 36
        },
        "id": "GrhjwVkMPiN4",
        "outputId": "f190a262-3a35-43cb-eee4-e905271e7442"
      },
      "execution_count": 30,
      "outputs": [
        {
          "output_type": "execute_result",
          "data": {
            "text/plain": [
              "'I am child public sample1'"
            ],
            "application/vnd.google.colaboratory.intrinsic+json": {
              "type": "string"
            }
          },
          "metadata": {},
          "execution_count": 30
        }
      ]
    },
    {
      "cell_type": "code",
      "source": [
        "c.parent_sample1()"
      ],
      "metadata": {
        "colab": {
          "base_uri": "https://localhost:8080/",
          "height": 36
        },
        "id": "f-qx823fP3xF",
        "outputId": "d2ccc30c-7dbc-4584-c15c-81643890678e"
      },
      "execution_count": 31,
      "outputs": [
        {
          "output_type": "execute_result",
          "data": {
            "text/plain": [
              "'I am parent public sample1'"
            ],
            "application/vnd.google.colaboratory.intrinsic+json": {
              "type": "string"
            }
          },
          "metadata": {},
          "execution_count": 31
        }
      ]
    },
    {
      "cell_type": "code",
      "source": [
        "c.child_sample2()"
      ],
      "metadata": {
        "colab": {
          "base_uri": "https://localhost:8080/",
          "height": 292
        },
        "id": "JkIUXQZ6QG1C",
        "outputId": "fa69e3f4-bf41-4eb6-fdbf-db38f0e41ba3"
      },
      "execution_count": 32,
      "outputs": [
        {
          "output_type": "stream",
          "name": "stdout",
          "text": [
            "I am child class public sample2 method\n"
          ]
        },
        {
          "output_type": "error",
          "ename": "AttributeError",
          "evalue": "'Child' object has no attribute '_Child__parent_sample2'",
          "traceback": [
            "\u001b[0;31m---------------------------------------------------------------------------\u001b[0m",
            "\u001b[0;31mAttributeError\u001b[0m                            Traceback (most recent call last)",
            "\u001b[0;32m<ipython-input-32-6ab12245f1d6>\u001b[0m in \u001b[0;36m<cell line: 0>\u001b[0;34m()\u001b[0m\n\u001b[0;32m----> 1\u001b[0;31m \u001b[0mc\u001b[0m\u001b[0;34m.\u001b[0m\u001b[0mchild_sample2\u001b[0m\u001b[0;34m(\u001b[0m\u001b[0;34m)\u001b[0m\u001b[0;34m\u001b[0m\u001b[0;34m\u001b[0m\u001b[0m\n\u001b[0m",
            "\u001b[0;32m<ipython-input-27-363ed3a13312>\u001b[0m in \u001b[0;36mchild_sample2\u001b[0;34m(self)\u001b[0m\n\u001b[1;32m     21\u001b[0m   \u001b[0;32mdef\u001b[0m \u001b[0mchild_sample2\u001b[0m\u001b[0;34m(\u001b[0m\u001b[0mself\u001b[0m\u001b[0;34m)\u001b[0m\u001b[0;34m:\u001b[0m\u001b[0;34m\u001b[0m\u001b[0;34m\u001b[0m\u001b[0m\n\u001b[1;32m     22\u001b[0m     \u001b[0mprint\u001b[0m\u001b[0;34m(\u001b[0m\u001b[0;34m\"I am child class public sample2 method\"\u001b[0m\u001b[0;34m)\u001b[0m\u001b[0;34m\u001b[0m\u001b[0;34m\u001b[0m\u001b[0m\n\u001b[0;32m---> 23\u001b[0;31m     \u001b[0;32mreturn\u001b[0m \u001b[0mself\u001b[0m\u001b[0;34m.\u001b[0m\u001b[0m__parent_sample2\u001b[0m\u001b[0;34m(\u001b[0m\u001b[0;34m)\u001b[0m\u001b[0;34m\u001b[0m\u001b[0;34m\u001b[0m\u001b[0m\n\u001b[0m\u001b[1;32m     24\u001b[0m \u001b[0;34m\u001b[0m\u001b[0m\n\u001b[1;32m     25\u001b[0m   \u001b[0;32mdef\u001b[0m \u001b[0mchild_sample3\u001b[0m\u001b[0;34m(\u001b[0m\u001b[0mself\u001b[0m\u001b[0;34m)\u001b[0m\u001b[0;34m:\u001b[0m\u001b[0;34m\u001b[0m\u001b[0;34m\u001b[0m\u001b[0m\n",
            "\u001b[0;31mAttributeError\u001b[0m: 'Child' object has no attribute '_Child__parent_sample2'"
          ]
        }
      ]
    },
    {
      "cell_type": "code",
      "source": [
        "c.child_sample3()"
      ],
      "metadata": {
        "colab": {
          "base_uri": "https://localhost:8080/",
          "height": 36
        },
        "id": "qnmJzfWFRZqI",
        "outputId": "f8b2daf2-e930-43f3-b630-d85f9e93a670"
      },
      "execution_count": 33,
      "outputs": [
        {
          "output_type": "execute_result",
          "data": {
            "text/plain": [
              "'I am parent private sample2'"
            ],
            "application/vnd.google.colaboratory.intrinsic+json": {
              "type": "string"
            }
          },
          "metadata": {},
          "execution_count": 33
        }
      ]
    },
    {
      "cell_type": "code",
      "source": [
        "class Parent():\n",
        "\n",
        "  def __init__(self,a,b):\n",
        "    self.__a=a\n",
        "    self.b=b\n",
        "\n",
        "  def parent_sample1(self):\n",
        "    return \"I am parent public sample1\"\n",
        "\n",
        "  def __parent_sample2(self):\n",
        "    return \"I am parent private sample2\"\n",
        "\n",
        "  def parent_sample3(self):\n",
        "    return self.__parent_sample2()\n",
        "\n",
        "\n",
        "class Child(Parent):\n",
        "  def __init__(self,a,b,c):\n",
        "\n",
        "    self.c=c\n",
        "\n",
        "  def child_sample1(self):\n",
        "    return \"I am child public sample1\"\n",
        "\n",
        "  def child_sample2(self):\n",
        "    print(\"I am child class public sample2 method\")\n",
        "    return self.__parent_sample2()\n",
        "\n",
        "  def child_sample3(self):\n",
        "    return self.parent_sample3()"
      ],
      "metadata": {
        "id": "mS0nR0sgSFHq"
      },
      "execution_count": 34,
      "outputs": []
    },
    {
      "cell_type": "code",
      "source": [
        "class Parent():\n",
        "\n",
        "  def __init__(self):\n",
        "    self.parent_amount =1000000\n",
        "    return self.parent_amount\n",
        "\n",
        "  def property(self):\n",
        "    print(\"100 acres\")\n",
        "\n",
        "class Child(Parent):\n",
        "  def __init__(self):\n",
        "    self.amount=10000\n",
        "    print(super().__init__())\n",
        "    print(self.amount)\n",
        "\n",
        "  def property(self):\n",
        "    super().property()\n",
        "    print(\"10 acres\")\n",
        "\n",
        "\n"
      ],
      "metadata": {
        "id": "DxEDbWuPUUXA"
      },
      "execution_count": 35,
      "outputs": []
    },
    {
      "cell_type": "code",
      "source": [
        "c=Child()"
      ],
      "metadata": {
        "colab": {
          "base_uri": "https://localhost:8080/"
        },
        "id": "ecdRoUnJU5Mw",
        "outputId": "772c049e-7bbe-4271-b7f6-eb2dd3e610f9"
      },
      "execution_count": 36,
      "outputs": [
        {
          "output_type": "stream",
          "name": "stdout",
          "text": [
            "1000000\n",
            "10000\n"
          ]
        }
      ]
    },
    {
      "cell_type": "code",
      "source": [
        "c.property()"
      ],
      "metadata": {
        "colab": {
          "base_uri": "https://localhost:8080/"
        },
        "id": "icsiM2guVCkU",
        "outputId": "bf88443c-9d5e-40a3-b7ca-bccf5d03aa3e"
      },
      "execution_count": 37,
      "outputs": [
        {
          "output_type": "stream",
          "name": "stdout",
          "text": [
            "100 acres\n",
            "10 acres\n"
          ]
        }
      ]
    },
    {
      "cell_type": "markdown",
      "source": [
        "Method overlaoding"
      ],
      "metadata": {
        "id": "gKvl2GM_fY6b"
      }
    },
    {
      "cell_type": "code",
      "source": [
        "class Parent:\n",
        "\n",
        "  def sample(self,a):\n",
        "    self.numbers=a\n",
        "    print(self.numbers)\n",
        "\n"
      ],
      "metadata": {
        "id": "cNDIyVQRW1QF"
      },
      "execution_count": 38,
      "outputs": []
    },
    {
      "cell_type": "code",
      "source": [
        "p=Parent()"
      ],
      "metadata": {
        "id": "kCLwuHYAfnaJ"
      },
      "execution_count": 39,
      "outputs": []
    },
    {
      "cell_type": "code",
      "source": [
        "p.sample(a=2)"
      ],
      "metadata": {
        "colab": {
          "base_uri": "https://localhost:8080/"
        },
        "id": "EcnHfKlCfpHg",
        "outputId": "b9a60b9e-cb7e-4981-ce94-4a6d6e88da33"
      },
      "execution_count": 40,
      "outputs": [
        {
          "output_type": "stream",
          "name": "stdout",
          "text": [
            "2\n"
          ]
        }
      ]
    },
    {
      "cell_type": "code",
      "source": [
        "p.sample(a=2,b=3)"
      ],
      "metadata": {
        "colab": {
          "base_uri": "https://localhost:8080/",
          "height": 146
        },
        "id": "Bh3KU1xBfsCh",
        "outputId": "dedb341e-546d-4211-ea11-f28a3fcba09a"
      },
      "execution_count": 41,
      "outputs": [
        {
          "output_type": "error",
          "ename": "TypeError",
          "evalue": "Parent.sample() got an unexpected keyword argument 'b'",
          "traceback": [
            "\u001b[0;31m---------------------------------------------------------------------------\u001b[0m",
            "\u001b[0;31mTypeError\u001b[0m                                 Traceback (most recent call last)",
            "\u001b[0;32m<ipython-input-41-8ec5a94c5373>\u001b[0m in \u001b[0;36m<cell line: 0>\u001b[0;34m()\u001b[0m\n\u001b[0;32m----> 1\u001b[0;31m \u001b[0mp\u001b[0m\u001b[0;34m.\u001b[0m\u001b[0msample\u001b[0m\u001b[0;34m(\u001b[0m\u001b[0ma\u001b[0m\u001b[0;34m=\u001b[0m\u001b[0;36m2\u001b[0m\u001b[0;34m,\u001b[0m\u001b[0mb\u001b[0m\u001b[0;34m=\u001b[0m\u001b[0;36m3\u001b[0m\u001b[0;34m)\u001b[0m\u001b[0;34m\u001b[0m\u001b[0;34m\u001b[0m\u001b[0m\n\u001b[0m",
            "\u001b[0;31mTypeError\u001b[0m: Parent.sample() got an unexpected keyword argument 'b'"
          ]
        }
      ]
    },
    {
      "cell_type": "code",
      "source": [
        "p.sample(a=1,b=2,c=3,d=4,e=5)"
      ],
      "metadata": {
        "colab": {
          "base_uri": "https://localhost:8080/",
          "height": 146
        },
        "id": "vQUvdR_Lft6e",
        "outputId": "bff5e919-0ad3-4d21-909d-0d3e32cc5d6e"
      },
      "execution_count": 42,
      "outputs": [
        {
          "output_type": "error",
          "ename": "TypeError",
          "evalue": "Parent.sample() got an unexpected keyword argument 'b'",
          "traceback": [
            "\u001b[0;31m---------------------------------------------------------------------------\u001b[0m",
            "\u001b[0;31mTypeError\u001b[0m                                 Traceback (most recent call last)",
            "\u001b[0;32m<ipython-input-42-67ecb8944455>\u001b[0m in \u001b[0;36m<cell line: 0>\u001b[0;34m()\u001b[0m\n\u001b[0;32m----> 1\u001b[0;31m \u001b[0mp\u001b[0m\u001b[0;34m.\u001b[0m\u001b[0msample\u001b[0m\u001b[0;34m(\u001b[0m\u001b[0ma\u001b[0m\u001b[0;34m=\u001b[0m\u001b[0;36m1\u001b[0m\u001b[0;34m,\u001b[0m\u001b[0mb\u001b[0m\u001b[0;34m=\u001b[0m\u001b[0;36m2\u001b[0m\u001b[0;34m,\u001b[0m\u001b[0mc\u001b[0m\u001b[0;34m=\u001b[0m\u001b[0;36m3\u001b[0m\u001b[0;34m,\u001b[0m\u001b[0md\u001b[0m\u001b[0;34m=\u001b[0m\u001b[0;36m4\u001b[0m\u001b[0;34m,\u001b[0m\u001b[0me\u001b[0m\u001b[0;34m=\u001b[0m\u001b[0;36m5\u001b[0m\u001b[0;34m)\u001b[0m\u001b[0;34m\u001b[0m\u001b[0;34m\u001b[0m\u001b[0m\n\u001b[0m",
            "\u001b[0;31mTypeError\u001b[0m: Parent.sample() got an unexpected keyword argument 'b'"
          ]
        }
      ]
    },
    {
      "cell_type": "markdown",
      "source": [
        "operator overloading"
      ],
      "metadata": {
        "id": "TXWHm66Egq17"
      }
    },
    {
      "cell_type": "code",
      "source": [
        "2+3"
      ],
      "metadata": {
        "colab": {
          "base_uri": "https://localhost:8080/"
        },
        "id": "xj7NQbNPfwD-",
        "outputId": "5119c5e9-bab0-435d-fa15-da20bb39238a"
      },
      "execution_count": 43,
      "outputs": [
        {
          "output_type": "execute_result",
          "data": {
            "text/plain": [
              "5"
            ]
          },
          "metadata": {},
          "execution_count": 43
        }
      ]
    },
    {
      "cell_type": "code",
      "source": [
        "\"data\" + \"dreamers\""
      ],
      "metadata": {
        "colab": {
          "base_uri": "https://localhost:8080/",
          "height": 36
        },
        "id": "2PlJlIbCgtjk",
        "outputId": "b077154c-5be6-4659-e670-814d461b2f48"
      },
      "execution_count": 44,
      "outputs": [
        {
          "output_type": "execute_result",
          "data": {
            "text/plain": [
              "'datadreamers'"
            ],
            "application/vnd.google.colaboratory.intrinsic+json": {
              "type": "string"
            }
          },
          "metadata": {},
          "execution_count": 44
        }
      ]
    },
    {
      "cell_type": "code",
      "source": [
        "[1,2,3,4]+[4,5,6,7]"
      ],
      "metadata": {
        "colab": {
          "base_uri": "https://localhost:8080/"
        },
        "id": "O5N--ljRgvyp",
        "outputId": "7eef87fe-bc56-4eb3-99b2-984bca07620a"
      },
      "execution_count": 45,
      "outputs": [
        {
          "output_type": "execute_result",
          "data": {
            "text/plain": [
              "[1, 2, 3, 4, 4, 5, 6, 7]"
            ]
          },
          "metadata": {},
          "execution_count": 45
        }
      ]
    },
    {
      "cell_type": "code",
      "source": [],
      "metadata": {
        "id": "0ytF8-tYiAXL"
      },
      "execution_count": null,
      "outputs": []
    }
  ]
}