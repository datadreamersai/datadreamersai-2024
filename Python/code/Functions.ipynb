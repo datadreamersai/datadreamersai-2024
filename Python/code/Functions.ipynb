{
  "nbformat": 4,
  "nbformat_minor": 0,
  "metadata": {
    "colab": {
      "provenance": []
    },
    "kernelspec": {
      "name": "python3",
      "display_name": "Python 3"
    },
    "language_info": {
      "name": "python"
    }
  },
  "cells": [
    {
      "cell_type": "markdown",
      "source": [
        "In-Build Functions"
      ],
      "metadata": {
        "id": "PGLUB1r2yA4u"
      }
    },
    {
      "cell_type": "code",
      "execution_count": 1,
      "metadata": {
        "colab": {
          "base_uri": "https://localhost:8080/"
        },
        "id": "8r9w8zKjxTGP",
        "outputId": "e87ec57b-7b0a-4d37-b070-9ba7d6b7ba54"
      },
      "outputs": [
        {
          "output_type": "execute_result",
          "data": {
            "text/plain": [
              "4"
            ]
          },
          "metadata": {},
          "execution_count": 1
        }
      ],
      "source": [
        "l=[1,2,3,4]\n",
        "len(l)"
      ]
    },
    {
      "cell_type": "code",
      "source": [
        "max(l)"
      ],
      "metadata": {
        "colab": {
          "base_uri": "https://localhost:8080/"
        },
        "id": "DN9SOc72xeH8",
        "outputId": "d36f7730-7726-4ac8-ef9f-479563885151"
      },
      "execution_count": 2,
      "outputs": [
        {
          "output_type": "execute_result",
          "data": {
            "text/plain": [
              "4"
            ]
          },
          "metadata": {},
          "execution_count": 2
        }
      ]
    },
    {
      "cell_type": "code",
      "source": [
        "min(l)"
      ],
      "metadata": {
        "colab": {
          "base_uri": "https://localhost:8080/"
        },
        "id": "Xe67q416xjMR",
        "outputId": "9c1ea1d5-2f57-46bf-ecbe-69bc6863f741"
      },
      "execution_count": 3,
      "outputs": [
        {
          "output_type": "execute_result",
          "data": {
            "text/plain": [
              "1"
            ]
          },
          "metadata": {},
          "execution_count": 3
        }
      ]
    },
    {
      "cell_type": "code",
      "source": [
        "type(l)"
      ],
      "metadata": {
        "colab": {
          "base_uri": "https://localhost:8080/"
        },
        "id": "lfy-hWmHxkUE",
        "outputId": "59b01b63-ae6c-42cd-b92f-e7275fd64bc9"
      },
      "execution_count": 4,
      "outputs": [
        {
          "output_type": "execute_result",
          "data": {
            "text/plain": [
              "list"
            ]
          },
          "metadata": {},
          "execution_count": 4
        }
      ]
    },
    {
      "cell_type": "code",
      "source": [
        "id(l)"
      ],
      "metadata": {
        "colab": {
          "base_uri": "https://localhost:8080/"
        },
        "id": "VjZ8683Hxlsd",
        "outputId": "5dd7725c-3c11-4a3b-a90a-baeccb14875a"
      },
      "execution_count": 5,
      "outputs": [
        {
          "output_type": "execute_result",
          "data": {
            "text/plain": [
              "138738593622912"
            ]
          },
          "metadata": {},
          "execution_count": 5
        }
      ]
    },
    {
      "cell_type": "code",
      "source": [
        "print(l)"
      ],
      "metadata": {
        "colab": {
          "base_uri": "https://localhost:8080/"
        },
        "id": "zxlV_mlsxmoU",
        "outputId": "d057ee9f-5593-46f4-b46e-bce02a7d6acf"
      },
      "execution_count": 6,
      "outputs": [
        {
          "output_type": "stream",
          "name": "stdout",
          "text": [
            "[1, 2, 3, 4]\n"
          ]
        }
      ]
    },
    {
      "cell_type": "code",
      "source": [
        "help(\"len\")"
      ],
      "metadata": {
        "colab": {
          "base_uri": "https://localhost:8080/"
        },
        "id": "bMPDVQMAxplX",
        "outputId": "6a742b82-f626-43aa-b6dc-2643390767bc"
      },
      "execution_count": 9,
      "outputs": [
        {
          "output_type": "stream",
          "name": "stdout",
          "text": [
            "Help on built-in function len in module builtins:\n",
            "\n",
            "len(obj, /)\n",
            "    Return the number of items in a container.\n",
            "\n"
          ]
        }
      ]
    },
    {
      "cell_type": "markdown",
      "source": [
        "more on in-built functions - https://docs.python.org/3/library/functions.html"
      ],
      "metadata": {
        "id": "8NjHDD6gyEly"
      }
    },
    {
      "cell_type": "markdown",
      "source": [
        "In-Built Modules"
      ],
      "metadata": {
        "id": "Vblyd9E60jXA"
      }
    },
    {
      "cell_type": "code",
      "source": [
        "import math"
      ],
      "metadata": {
        "id": "u-4SkXvYxwGd"
      },
      "execution_count": 10,
      "outputs": []
    },
    {
      "cell_type": "code",
      "source": [
        "math.pi"
      ],
      "metadata": {
        "colab": {
          "base_uri": "https://localhost:8080/"
        },
        "id": "KBlXkmL80qUx",
        "outputId": "aa3e05f2-2a63-4699-d52b-ca6b538aa24d"
      },
      "execution_count": 11,
      "outputs": [
        {
          "output_type": "execute_result",
          "data": {
            "text/plain": [
              "3.141592653589793"
            ]
          },
          "metadata": {},
          "execution_count": 11
        }
      ]
    },
    {
      "cell_type": "code",
      "source": [
        "math.e"
      ],
      "metadata": {
        "colab": {
          "base_uri": "https://localhost:8080/"
        },
        "id": "FRxYItEH02sO",
        "outputId": "6797133e-1d33-4e3c-fa35-0bcf5d263e9c"
      },
      "execution_count": 12,
      "outputs": [
        {
          "output_type": "execute_result",
          "data": {
            "text/plain": [
              "2.718281828459045"
            ]
          },
          "metadata": {},
          "execution_count": 12
        }
      ]
    },
    {
      "cell_type": "code",
      "source": [
        "math.sqrt(16)"
      ],
      "metadata": {
        "colab": {
          "base_uri": "https://localhost:8080/"
        },
        "id": "PGy7KQP71AVn",
        "outputId": "680b704e-f0a0-4f2c-fc7f-d3f3170cc288"
      },
      "execution_count": 13,
      "outputs": [
        {
          "output_type": "execute_result",
          "data": {
            "text/plain": [
              "4.0"
            ]
          },
          "metadata": {},
          "execution_count": 13
        }
      ]
    },
    {
      "cell_type": "code",
      "source": [
        "math.pow(3,4)"
      ],
      "metadata": {
        "colab": {
          "base_uri": "https://localhost:8080/"
        },
        "id": "-Hyo5StN1Mg2",
        "outputId": "0afb5d4c-7072-4fdb-9b8b-f358447bb162"
      },
      "execution_count": 14,
      "outputs": [
        {
          "output_type": "execute_result",
          "data": {
            "text/plain": [
              "81.0"
            ]
          },
          "metadata": {},
          "execution_count": 14
        }
      ]
    },
    {
      "cell_type": "code",
      "source": [
        "math.factorial(5)"
      ],
      "metadata": {
        "colab": {
          "base_uri": "https://localhost:8080/"
        },
        "id": "ZBwQgvYS1SXy",
        "outputId": "451efd51-bb48-4011-e41b-d8a96a78ffbf"
      },
      "execution_count": 15,
      "outputs": [
        {
          "output_type": "execute_result",
          "data": {
            "text/plain": [
              "120"
            ]
          },
          "metadata": {},
          "execution_count": 15
        }
      ]
    },
    {
      "cell_type": "code",
      "source": [
        "import datetime"
      ],
      "metadata": {
        "id": "13zjbKoj1hJI"
      },
      "execution_count": 16,
      "outputs": []
    },
    {
      "cell_type": "code",
      "source": [],
      "metadata": {
        "colab": {
          "base_uri": "https://localhost:8080/"
        },
        "id": "nQKNzIMs1ulG",
        "outputId": "a620fe1d-3a9c-4ba9-cf39-1b27ababcf14"
      },
      "execution_count": 27,
      "outputs": [
        {
          "output_type": "execute_result",
          "data": {
            "text/plain": [
              "<attribute 'hour' of 'datetime.time' objects>"
            ]
          },
          "metadata": {},
          "execution_count": 27
        }
      ]
    },
    {
      "cell_type": "code",
      "source": [
        "import os"
      ],
      "metadata": {
        "id": "IayYIbRA1x0S"
      },
      "execution_count": 28,
      "outputs": []
    },
    {
      "cell_type": "code",
      "source": [
        "os.getcwd()"
      ],
      "metadata": {
        "colab": {
          "base_uri": "https://localhost:8080/",
          "height": 36
        },
        "id": "zbkkLe0T2r1E",
        "outputId": "4ba08e5a-975f-4822-8d72-372773a8dc91"
      },
      "execution_count": 29,
      "outputs": [
        {
          "output_type": "execute_result",
          "data": {
            "text/plain": [
              "'/content'"
            ],
            "application/vnd.google.colaboratory.intrinsic+json": {
              "type": "string"
            }
          },
          "metadata": {},
          "execution_count": 29
        }
      ]
    },
    {
      "cell_type": "code",
      "source": [
        "os.curdir"
      ],
      "metadata": {
        "colab": {
          "base_uri": "https://localhost:8080/",
          "height": 36
        },
        "id": "RrsbfBkP2vqu",
        "outputId": "57863703-9c14-457e-ebd1-e464495c9785"
      },
      "execution_count": 31,
      "outputs": [
        {
          "output_type": "execute_result",
          "data": {
            "text/plain": [
              "'.'"
            ],
            "application/vnd.google.colaboratory.intrinsic+json": {
              "type": "string"
            }
          },
          "metadata": {},
          "execution_count": 31
        }
      ]
    },
    {
      "cell_type": "code",
      "source": [
        "os.listdir()"
      ],
      "metadata": {
        "colab": {
          "base_uri": "https://localhost:8080/"
        },
        "id": "gExpj3vq23pi",
        "outputId": "4b707bb4-8ff4-4575-b40b-f6ac61b3fbaf"
      },
      "execution_count": 32,
      "outputs": [
        {
          "output_type": "execute_result",
          "data": {
            "text/plain": [
              "['.config', 'sample_data']"
            ]
          },
          "metadata": {},
          "execution_count": 32
        }
      ]
    },
    {
      "cell_type": "markdown",
      "source": [
        "Intro to functions"
      ],
      "metadata": {
        "id": "YuX7fioE9eNt"
      }
    },
    {
      "cell_type": "code",
      "source": [
        "def add(a,b):\n",
        "  c=a+b\n",
        ""
      ],
      "metadata": {
        "id": "xXLlV5nP2_g9"
      },
      "execution_count": 35,
      "outputs": []
    },
    {
      "cell_type": "code",
      "source": [
        "x=add(2,3)\n",
        "print(x)"
      ],
      "metadata": {
        "colab": {
          "base_uri": "https://localhost:8080/"
        },
        "id": "1yrkwMDv9pzK",
        "outputId": "d14af309-e817-4856-f71d-ac1736e7aee5"
      },
      "execution_count": 36,
      "outputs": [
        {
          "output_type": "stream",
          "name": "stdout",
          "text": [
            "None\n"
          ]
        }
      ]
    },
    {
      "cell_type": "markdown",
      "source": [
        "# **Types of Arguments**"
      ],
      "metadata": {
        "id": "Ot5d2PV1_pAu"
      }
    },
    {
      "cell_type": "code",
      "source": [
        "#postional arguments\n",
        "\n",
        "def func(a,b,c):\n",
        "  x= a+b-c\n",
        "  return x\n",
        "\n",
        "x=func(2,3,-1)\n",
        "print(x)\n"
      ],
      "metadata": {
        "colab": {
          "base_uri": "https://localhost:8080/"
        },
        "id": "78sIkZYC_uqG",
        "outputId": "d54b8857-1c05-4ba0-e797-08cb0128eece"
      },
      "execution_count": 5,
      "outputs": [
        {
          "output_type": "stream",
          "name": "stdout",
          "text": [
            "6\n"
          ]
        }
      ]
    },
    {
      "cell_type": "code",
      "source": [
        "#default arguments\n",
        "def func(a,b,c=6,r=0.1):\n",
        "  print(a)\n",
        "  print(b)\n",
        "  print(c)\n",
        "  print(r)\n",
        "  x= (a+b-c)*r\n",
        "  return x\n",
        "\n",
        "x=func(2,3,7)\n",
        "print(x)\n"
      ],
      "metadata": {
        "colab": {
          "base_uri": "https://localhost:8080/"
        },
        "id": "8a0C62fkADFk",
        "outputId": "aa430621-ea88-4945-e398-f0d6c0c11758"
      },
      "execution_count": 9,
      "outputs": [
        {
          "output_type": "stream",
          "name": "stdout",
          "text": [
            "2\n",
            "3\n",
            "7\n",
            "0.1\n",
            "-0.2\n"
          ]
        }
      ]
    },
    {
      "cell_type": "code",
      "source": [
        "#keyword arguments\n",
        "\n",
        "def func(a,delhi,bangalore,b=4):\n",
        "  \"\"\"This is simple function which just prints the value we\n",
        "pass to it.\n",
        "Developed by sumanth\n",
        "created at 23-01-2025\n",
        "Functionality - it takes 4 parameters and it returns the value assoctated to the params\"\"\"\n",
        "  print(a)\n",
        "  print(b)\n",
        "  print(bangalore)\n",
        "  print(delhi)\n",
        "\n"
      ],
      "metadata": {
        "id": "4a6jxDjIBAH9"
      },
      "execution_count": 19,
      "outputs": []
    },
    {
      "cell_type": "code",
      "source": [
        "print(func.__doc__)"
      ],
      "metadata": {
        "colab": {
          "base_uri": "https://localhost:8080/"
        },
        "id": "ZRybc8eKFj-z",
        "outputId": "b41f21b4-0c1a-49ca-fcb0-8443baa4fc9f"
      },
      "execution_count": 22,
      "outputs": [
        {
          "output_type": "stream",
          "name": "stdout",
          "text": [
            "This is simple function which just prints the value we \n",
            "pass to it.\n",
            "Developed by sumanth\n",
            "created at 23-01-2025\n",
            "Functionality - it takes 4 parameters and it returns the value assoctated to the params\n"
          ]
        }
      ]
    },
    {
      "cell_type": "code",
      "source": [
        "func(delhi=\"india\",a=2,bangalore=3)"
      ],
      "metadata": {
        "colab": {
          "base_uri": "https://localhost:8080/"
        },
        "id": "AQ3JvWUhCR1f",
        "outputId": "72106501-082e-4de7-8dd7-c34e10b880d5"
      },
      "execution_count": 20,
      "outputs": [
        {
          "output_type": "stream",
          "name": "stdout",
          "text": [
            "2\n",
            "4\n",
            "3\n",
            "india\n"
          ]
        }
      ]
    },
    {
      "cell_type": "code",
      "source": [
        "from sklearn.ensemble import RandomForestClassifier\n",
        "\n",
        "print(RandomForestClassifier.__doc__)"
      ],
      "metadata": {
        "colab": {
          "base_uri": "https://localhost:8080/"
        },
        "id": "4sMKXvYkC_IW",
        "outputId": "eb148d84-7c48-41c5-fd31-c1ea24197eb4"
      },
      "execution_count": 24,
      "outputs": [
        {
          "output_type": "stream",
          "name": "stdout",
          "text": [
            "\n",
            "    A random forest classifier.\n",
            "\n",
            "    A random forest is a meta estimator that fits a number of decision tree\n",
            "    classifiers on various sub-samples of the dataset and uses averaging to\n",
            "    improve the predictive accuracy and control over-fitting.\n",
            "    Trees in the forest use the best split strategy, i.e. equivalent to passing\n",
            "    `splitter=\"best\"` to the underlying :class:`~sklearn.tree.DecisionTreeClassifier`.\n",
            "    The sub-sample size is controlled with the `max_samples` parameter if\n",
            "    `bootstrap=True` (default), otherwise the whole dataset is used to build\n",
            "    each tree.\n",
            "\n",
            "    For a comparison between tree-based ensemble models see the example\n",
            "    :ref:`sphx_glr_auto_examples_ensemble_plot_forest_hist_grad_boosting_comparison.py`.\n",
            "\n",
            "    Read more in the :ref:`User Guide <forest>`.\n",
            "\n",
            "    Parameters\n",
            "    ----------\n",
            "    n_estimators : int, default=100\n",
            "        The number of trees in the forest.\n",
            "\n",
            "        .. versionchanged:: 0.22\n",
            "           The default value of ``n_estimators`` changed from 10 to 100\n",
            "           in 0.22.\n",
            "\n",
            "    criterion : {\"gini\", \"entropy\", \"log_loss\"}, default=\"gini\"\n",
            "        The function to measure the quality of a split. Supported criteria are\n",
            "        \"gini\" for the Gini impurity and \"log_loss\" and \"entropy\" both for the\n",
            "        Shannon information gain, see :ref:`tree_mathematical_formulation`.\n",
            "        Note: This parameter is tree-specific.\n",
            "\n",
            "    max_depth : int, default=None\n",
            "        The maximum depth of the tree. If None, then nodes are expanded until\n",
            "        all leaves are pure or until all leaves contain less than\n",
            "        min_samples_split samples.\n",
            "\n",
            "    min_samples_split : int or float, default=2\n",
            "        The minimum number of samples required to split an internal node:\n",
            "\n",
            "        - If int, then consider `min_samples_split` as the minimum number.\n",
            "        - If float, then `min_samples_split` is a fraction and\n",
            "          `ceil(min_samples_split * n_samples)` are the minimum\n",
            "          number of samples for each split.\n",
            "\n",
            "        .. versionchanged:: 0.18\n",
            "           Added float values for fractions.\n",
            "\n",
            "    min_samples_leaf : int or float, default=1\n",
            "        The minimum number of samples required to be at a leaf node.\n",
            "        A split point at any depth will only be considered if it leaves at\n",
            "        least ``min_samples_leaf`` training samples in each of the left and\n",
            "        right branches.  This may have the effect of smoothing the model,\n",
            "        especially in regression.\n",
            "\n",
            "        - If int, then consider `min_samples_leaf` as the minimum number.\n",
            "        - If float, then `min_samples_leaf` is a fraction and\n",
            "          `ceil(min_samples_leaf * n_samples)` are the minimum\n",
            "          number of samples for each node.\n",
            "\n",
            "        .. versionchanged:: 0.18\n",
            "           Added float values for fractions.\n",
            "\n",
            "    min_weight_fraction_leaf : float, default=0.0\n",
            "        The minimum weighted fraction of the sum total of weights (of all\n",
            "        the input samples) required to be at a leaf node. Samples have\n",
            "        equal weight when sample_weight is not provided.\n",
            "\n",
            "    max_features : {\"sqrt\", \"log2\", None}, int or float, default=\"sqrt\"\n",
            "        The number of features to consider when looking for the best split:\n",
            "\n",
            "        - If int, then consider `max_features` features at each split.\n",
            "        - If float, then `max_features` is a fraction and\n",
            "          `max(1, int(max_features * n_features_in_))` features are considered at each\n",
            "          split.\n",
            "        - If \"sqrt\", then `max_features=sqrt(n_features)`.\n",
            "        - If \"log2\", then `max_features=log2(n_features)`.\n",
            "        - If None, then `max_features=n_features`.\n",
            "\n",
            "        .. versionchanged:: 1.1\n",
            "            The default of `max_features` changed from `\"auto\"` to `\"sqrt\"`.\n",
            "\n",
            "        Note: the search for a split does not stop until at least one\n",
            "        valid partition of the node samples is found, even if it requires to\n",
            "        effectively inspect more than ``max_features`` features.\n",
            "\n",
            "    max_leaf_nodes : int, default=None\n",
            "        Grow trees with ``max_leaf_nodes`` in best-first fashion.\n",
            "        Best nodes are defined as relative reduction in impurity.\n",
            "        If None then unlimited number of leaf nodes.\n",
            "\n",
            "    min_impurity_decrease : float, default=0.0\n",
            "        A node will be split if this split induces a decrease of the impurity\n",
            "        greater than or equal to this value.\n",
            "\n",
            "        The weighted impurity decrease equation is the following::\n",
            "\n",
            "            N_t / N * (impurity - N_t_R / N_t * right_impurity\n",
            "                                - N_t_L / N_t * left_impurity)\n",
            "\n",
            "        where ``N`` is the total number of samples, ``N_t`` is the number of\n",
            "        samples at the current node, ``N_t_L`` is the number of samples in the\n",
            "        left child, and ``N_t_R`` is the number of samples in the right child.\n",
            "\n",
            "        ``N``, ``N_t``, ``N_t_R`` and ``N_t_L`` all refer to the weighted sum,\n",
            "        if ``sample_weight`` is passed.\n",
            "\n",
            "        .. versionadded:: 0.19\n",
            "\n",
            "    bootstrap : bool, default=True\n",
            "        Whether bootstrap samples are used when building trees. If False, the\n",
            "        whole dataset is used to build each tree.\n",
            "\n",
            "    oob_score : bool or callable, default=False\n",
            "        Whether to use out-of-bag samples to estimate the generalization score.\n",
            "        By default, :func:`~sklearn.metrics.accuracy_score` is used.\n",
            "        Provide a callable with signature `metric(y_true, y_pred)` to use a\n",
            "        custom metric. Only available if `bootstrap=True`.\n",
            "\n",
            "    n_jobs : int, default=None\n",
            "        The number of jobs to run in parallel. :meth:`fit`, :meth:`predict`,\n",
            "        :meth:`decision_path` and :meth:`apply` are all parallelized over the\n",
            "        trees. ``None`` means 1 unless in a :obj:`joblib.parallel_backend`\n",
            "        context. ``-1`` means using all processors. See :term:`Glossary\n",
            "        <n_jobs>` for more details.\n",
            "\n",
            "    random_state : int, RandomState instance or None, default=None\n",
            "        Controls both the randomness of the bootstrapping of the samples used\n",
            "        when building trees (if ``bootstrap=True``) and the sampling of the\n",
            "        features to consider when looking for the best split at each node\n",
            "        (if ``max_features < n_features``).\n",
            "        See :term:`Glossary <random_state>` for details.\n",
            "\n",
            "    verbose : int, default=0\n",
            "        Controls the verbosity when fitting and predicting.\n",
            "\n",
            "    warm_start : bool, default=False\n",
            "        When set to ``True``, reuse the solution of the previous call to fit\n",
            "        and add more estimators to the ensemble, otherwise, just fit a whole\n",
            "        new forest. See :term:`Glossary <warm_start>` and\n",
            "        :ref:`tree_ensemble_warm_start` for details.\n",
            "\n",
            "    class_weight : {\"balanced\", \"balanced_subsample\"}, dict or list of dicts,             default=None\n",
            "        Weights associated with classes in the form ``{class_label: weight}``.\n",
            "        If not given, all classes are supposed to have weight one. For\n",
            "        multi-output problems, a list of dicts can be provided in the same\n",
            "        order as the columns of y.\n",
            "\n",
            "        Note that for multioutput (including multilabel) weights should be\n",
            "        defined for each class of every column in its own dict. For example,\n",
            "        for four-class multilabel classification weights should be\n",
            "        [{0: 1, 1: 1}, {0: 1, 1: 5}, {0: 1, 1: 1}, {0: 1, 1: 1}] instead of\n",
            "        [{1:1}, {2:5}, {3:1}, {4:1}].\n",
            "\n",
            "        The \"balanced\" mode uses the values of y to automatically adjust\n",
            "        weights inversely proportional to class frequencies in the input data\n",
            "        as ``n_samples / (n_classes * np.bincount(y))``\n",
            "\n",
            "        The \"balanced_subsample\" mode is the same as \"balanced\" except that\n",
            "        weights are computed based on the bootstrap sample for every tree\n",
            "        grown.\n",
            "\n",
            "        For multi-output, the weights of each column of y will be multiplied.\n",
            "\n",
            "        Note that these weights will be multiplied with sample_weight (passed\n",
            "        through the fit method) if sample_weight is specified.\n",
            "\n",
            "    ccp_alpha : non-negative float, default=0.0\n",
            "        Complexity parameter used for Minimal Cost-Complexity Pruning. The\n",
            "        subtree with the largest cost complexity that is smaller than\n",
            "        ``ccp_alpha`` will be chosen. By default, no pruning is performed. See\n",
            "        :ref:`minimal_cost_complexity_pruning` for details. See\n",
            "        :ref:`sphx_glr_auto_examples_tree_plot_cost_complexity_pruning.py`\n",
            "        for an example of such pruning.\n",
            "\n",
            "        .. versionadded:: 0.22\n",
            "\n",
            "    max_samples : int or float, default=None\n",
            "        If bootstrap is True, the number of samples to draw from X\n",
            "        to train each base estimator.\n",
            "\n",
            "        - If None (default), then draw `X.shape[0]` samples.\n",
            "        - If int, then draw `max_samples` samples.\n",
            "        - If float, then draw `max(round(n_samples * max_samples), 1)` samples. Thus,\n",
            "          `max_samples` should be in the interval `(0.0, 1.0]`.\n",
            "\n",
            "        .. versionadded:: 0.22\n",
            "\n",
            "    monotonic_cst : array-like of int of shape (n_features), default=None\n",
            "        Indicates the monotonicity constraint to enforce on each feature.\n",
            "          - 1: monotonic increase\n",
            "          - 0: no constraint\n",
            "          - -1: monotonic decrease\n",
            "\n",
            "        If monotonic_cst is None, no constraints are applied.\n",
            "\n",
            "        Monotonicity constraints are not supported for:\n",
            "          - multiclass classifications (i.e. when `n_classes > 2`),\n",
            "          - multioutput classifications (i.e. when `n_outputs_ > 1`),\n",
            "          - classifications trained on data with missing values.\n",
            "\n",
            "        The constraints hold over the probability of the positive class.\n",
            "\n",
            "        Read more in the :ref:`User Guide <monotonic_cst_gbdt>`.\n",
            "\n",
            "        .. versionadded:: 1.4\n",
            "\n",
            "    Attributes\n",
            "    ----------\n",
            "    estimator_ : :class:`~sklearn.tree.DecisionTreeClassifier`\n",
            "        The child estimator template used to create the collection of fitted\n",
            "        sub-estimators.\n",
            "\n",
            "        .. versionadded:: 1.2\n",
            "           `base_estimator_` was renamed to `estimator_`.\n",
            "\n",
            "    estimators_ : list of DecisionTreeClassifier\n",
            "        The collection of fitted sub-estimators.\n",
            "\n",
            "    classes_ : ndarray of shape (n_classes,) or a list of such arrays\n",
            "        The classes labels (single output problem), or a list of arrays of\n",
            "        class labels (multi-output problem).\n",
            "\n",
            "    n_classes_ : int or list\n",
            "        The number of classes (single output problem), or a list containing the\n",
            "        number of classes for each output (multi-output problem).\n",
            "\n",
            "    n_features_in_ : int\n",
            "        Number of features seen during :term:`fit`.\n",
            "\n",
            "        .. versionadded:: 0.24\n",
            "\n",
            "    feature_names_in_ : ndarray of shape (`n_features_in_`,)\n",
            "        Names of features seen during :term:`fit`. Defined only when `X`\n",
            "        has feature names that are all strings.\n",
            "\n",
            "        .. versionadded:: 1.0\n",
            "\n",
            "    n_outputs_ : int\n",
            "        The number of outputs when ``fit`` is performed.\n",
            "\n",
            "    feature_importances_ : ndarray of shape (n_features,)\n",
            "        The impurity-based feature importances.\n",
            "        The higher, the more important the feature.\n",
            "        The importance of a feature is computed as the (normalized)\n",
            "        total reduction of the criterion brought by that feature.  It is also\n",
            "        known as the Gini importance.\n",
            "\n",
            "        Warning: impurity-based feature importances can be misleading for\n",
            "        high cardinality features (many unique values). See\n",
            "        :func:`sklearn.inspection.permutation_importance` as an alternative.\n",
            "\n",
            "    oob_score_ : float\n",
            "        Score of the training dataset obtained using an out-of-bag estimate.\n",
            "        This attribute exists only when ``oob_score`` is True.\n",
            "\n",
            "    oob_decision_function_ : ndarray of shape (n_samples, n_classes) or             (n_samples, n_classes, n_outputs)\n",
            "        Decision function computed with out-of-bag estimate on the training\n",
            "        set. If n_estimators is small it might be possible that a data point\n",
            "        was never left out during the bootstrap. In this case,\n",
            "        `oob_decision_function_` might contain NaN. This attribute exists\n",
            "        only when ``oob_score`` is True.\n",
            "\n",
            "    estimators_samples_ : list of arrays\n",
            "        The subset of drawn samples (i.e., the in-bag samples) for each base\n",
            "        estimator. Each subset is defined by an array of the indices selected.\n",
            "\n",
            "        .. versionadded:: 1.4\n",
            "\n",
            "    See Also\n",
            "    --------\n",
            "    sklearn.tree.DecisionTreeClassifier : A decision tree classifier.\n",
            "    sklearn.ensemble.ExtraTreesClassifier : Ensemble of extremely randomized\n",
            "        tree classifiers.\n",
            "    sklearn.ensemble.HistGradientBoostingClassifier : A Histogram-based Gradient\n",
            "        Boosting Classification Tree, very fast for big datasets (n_samples >=\n",
            "        10_000).\n",
            "\n",
            "    Notes\n",
            "    -----\n",
            "    The default values for the parameters controlling the size of the trees\n",
            "    (e.g. ``max_depth``, ``min_samples_leaf``, etc.) lead to fully grown and\n",
            "    unpruned trees which can potentially be very large on some data sets. To\n",
            "    reduce memory consumption, the complexity and size of the trees should be\n",
            "    controlled by setting those parameter values.\n",
            "\n",
            "    The features are always randomly permuted at each split. Therefore,\n",
            "    the best found split may vary, even with the same training data,\n",
            "    ``max_features=n_features`` and ``bootstrap=False``, if the improvement\n",
            "    of the criterion is identical for several splits enumerated during the\n",
            "    search of the best split. To obtain a deterministic behaviour during\n",
            "    fitting, ``random_state`` has to be fixed.\n",
            "\n",
            "    References\n",
            "    ----------\n",
            "    .. [1] L. Breiman, \"Random Forests\", Machine Learning, 45(1), 5-32, 2001.\n",
            "\n",
            "    Examples\n",
            "    --------\n",
            "    >>> from sklearn.ensemble import RandomForestClassifier\n",
            "    >>> from sklearn.datasets import make_classification\n",
            "    >>> X, y = make_classification(n_samples=1000, n_features=4,\n",
            "    ...                            n_informative=2, n_redundant=0,\n",
            "    ...                            random_state=0, shuffle=False)\n",
            "    >>> clf = RandomForestClassifier(max_depth=2, random_state=0)\n",
            "    >>> clf.fit(X, y)\n",
            "    RandomForestClassifier(...)\n",
            "    >>> print(clf.predict([[0, 0, 0, 0]]))\n",
            "    [1]\n",
            "    \n"
          ]
        }
      ]
    },
    {
      "cell_type": "code",
      "source": [
        "#**args and ***kwargs"
      ],
      "metadata": {
        "id": "DwpT2dvwF3Xu"
      },
      "execution_count": 26,
      "outputs": []
    },
    {
      "cell_type": "code",
      "source": [
        "#*args\n",
        "def product(*prabhas):\n",
        "  print(prabhas)\n",
        "  prod=1\n",
        "  for i in prabhas:\n",
        "    prod=prod*i\n",
        "  return prod\n",
        "\n",
        "\n",
        "x= product(2,3,4,5)\n",
        "print(x)"
      ],
      "metadata": {
        "colab": {
          "base_uri": "https://localhost:8080/"
        },
        "id": "uW4p0RgtH3I2",
        "outputId": "842bc54e-e995-44ee-c2ea-45cc06ec576b"
      },
      "execution_count": 33,
      "outputs": [
        {
          "output_type": "stream",
          "name": "stdout",
          "text": [
            "(2, 3, 4, 5)\n",
            "120\n"
          ]
        }
      ]
    },
    {
      "cell_type": "code",
      "source": [
        "#**kwargs\n",
        "\n",
        "def capitals(india,usa,uk,australia,canada,mexico):\n",
        "  print(\"india capital ->\",india)\n",
        "  print(\"usa capital ->\",usa)\n",
        "  print(\"uk capital ->\",uk)\n",
        "  print(\"australia capital ->\",australia)\n",
        "  print(\"canada capital ->\",canada)\n",
        "  print(\"mexico capital ->\",mexico)\n",
        "\n",
        "\n",
        "capitals(india=\"delhi\",usa=\"washington\",uk=\"london\",australia=\"canberra\",canada=\"ottawa\",mexico=\"mexico city\")\n"
      ],
      "metadata": {
        "colab": {
          "base_uri": "https://localhost:8080/"
        },
        "id": "zPz19T0BIGvy",
        "outputId": "1f2068d2-7fc6-4fe9-df41-39c47c201406"
      },
      "execution_count": 36,
      "outputs": [
        {
          "output_type": "stream",
          "name": "stdout",
          "text": [
            "india capital -> delhi\n",
            "usa capital -> washington\n",
            "uk capital -> london\n",
            "australia capital -> canberra\n",
            "canada capital -> ottawa\n",
            "mexico capital -> mexico city\n"
          ]
        }
      ]
    },
    {
      "cell_type": "code",
      "source": [
        "def capitals(**si):\n",
        "  print(si)\n",
        "  for key,value in si.items():\n",
        "    print(key,\"capital ->\",value)\n",
        "\n",
        "\n",
        "capitals(india=\"delhi\",usa=\"washington\",uk=\"london\",australia=\"canberra\",canada=\"ottawa\",mexico=\"mexico city\")"
      ],
      "metadata": {
        "colab": {
          "base_uri": "https://localhost:8080/"
        },
        "id": "nXuJa8AwKIJ0",
        "outputId": "108a0c45-cfcf-40bb-d529-66ff6f15fff8"
      },
      "execution_count": 39,
      "outputs": [
        {
          "output_type": "stream",
          "name": "stdout",
          "text": [
            "{'india': 'delhi', 'usa': 'washington', 'uk': 'london', 'australia': 'canberra', 'canada': 'ottawa', 'mexico': 'mexico city'}\n",
            "india capital -> delhi\n",
            "usa capital -> washington\n",
            "uk capital -> london\n",
            "australia capital -> canberra\n",
            "canada capital -> ottawa\n",
            "mexico capital -> mexico city\n"
          ]
        }
      ]
    },
    {
      "cell_type": "markdown",
      "source": [
        "order of parameters"
      ],
      "metadata": {
        "id": "2e_IXSsDLa5t"
      }
    },
    {
      "cell_type": "code",
      "source": [
        "def func1(a,b,c=5,*args,**kwargs):\n",
        "  print(a,b,c)\n",
        "  print(args)\n",
        "  return kwargs\n",
        "\n",
        "x = func1(2,3,10,9,8,7,india=\"delhi\",usa=\"washington\")\n",
        "print(x)"
      ],
      "metadata": {
        "colab": {
          "base_uri": "https://localhost:8080/"
        },
        "id": "HUd2XXSXKv_O",
        "outputId": "0bda3007-1b1a-4a50-89f6-901510141918"
      },
      "execution_count": 40,
      "outputs": [
        {
          "output_type": "stream",
          "name": "stdout",
          "text": [
            "2 3 10\n",
            "(9, 8, 7)\n",
            "{'india': 'delhi', 'usa': 'washington'}\n"
          ]
        }
      ]
    },
    {
      "cell_type": "code",
      "source": [
        "def func1(a,b,c=5,*args,**kwargs):\n",
        "  print(a,b,c)\n",
        "  print(args)\n",
        "  return kwargs\n",
        "\n",
        "x = func1(3,9,8,7,india=\"delhi\",usa=\"washington\")\n",
        "print(x)"
      ],
      "metadata": {
        "colab": {
          "base_uri": "https://localhost:8080/"
        },
        "id": "oT_LzW4iL4eE",
        "outputId": "82685502-7619-4a1b-8f2d-3d16828204a3"
      },
      "execution_count": 45,
      "outputs": [
        {
          "output_type": "stream",
          "name": "stdout",
          "text": [
            "3 9 8\n",
            "(7,)\n",
            "{'india': 'delhi', 'usa': 'washington'}\n"
          ]
        }
      ]
    },
    {
      "cell_type": "code",
      "source": [
        "def func1(a,b,*args,c=5,**kwargs):\n",
        "  print(a,b,c)\n",
        "  print(args)\n",
        "  return kwargs\n",
        "\n",
        "x = func1(3,9,8,7,india=\"delhi\",usa=\"washington\")\n",
        "print(x)"
      ],
      "metadata": {
        "colab": {
          "base_uri": "https://localhost:8080/"
        },
        "id": "lfbuTq2KMizm",
        "outputId": "5ffec367-820c-42bc-f84b-be8f92448501"
      },
      "execution_count": 46,
      "outputs": [
        {
          "output_type": "stream",
          "name": "stdout",
          "text": [
            "3 9 5\n",
            "(8, 7)\n",
            "{'india': 'delhi', 'usa': 'washington'}\n"
          ]
        }
      ]
    },
    {
      "cell_type": "code",
      "source": [
        "def func1(*args,a=2,b=3,c=5,**kwargs):\n",
        "  print(a,b,c)\n",
        "  print(args)\n",
        "  return kwargs\n",
        "\n",
        "x = func1(3,9,8,7,india=\"delhi\",usa=\"washington\")\n",
        "print(x)"
      ],
      "metadata": {
        "colab": {
          "base_uri": "https://localhost:8080/"
        },
        "id": "W1oVt3tCNKSo",
        "outputId": "68200e8a-4f3d-4600-c2d8-3ff7118c9ab2"
      },
      "execution_count": 51,
      "outputs": [
        {
          "output_type": "stream",
          "name": "stdout",
          "text": [
            "2 3 5\n",
            "(3, 9, 8, 7)\n",
            "{'india': 'delhi', 'usa': 'washington'}\n"
          ]
        }
      ]
    },
    {
      "cell_type": "code",
      "source": [
        "def func1(b,c,a=5,*args,**kwargs):\n",
        "  print(a,b,c)\n",
        "  print(args)\n",
        "  return kwargs\n",
        "\n",
        "x = func1(3,9,8,7,india=\"delhi\",usa=\"washington\")\n",
        "print(x)"
      ],
      "metadata": {
        "colab": {
          "base_uri": "https://localhost:8080/"
        },
        "id": "sMpn14waNiBh",
        "outputId": "72f379c7-c1d2-411b-f81d-b10c1e3a9768"
      },
      "execution_count": 53,
      "outputs": [
        {
          "output_type": "stream",
          "name": "stdout",
          "text": [
            "8 3 9\n",
            "(7,)\n",
            "{'india': 'delhi', 'usa': 'washington'}\n"
          ]
        }
      ]
    },
    {
      "cell_type": "code",
      "source": [
        "def func1(*args,b,c,a=5,**kwargs):\n",
        "  print(a,b,c)\n",
        "  print(args)\n",
        "  return kwargs\n",
        "\n",
        "x = func1(3,9,8,7,b=2,c=9,india=\"delhi\",usa=\"washington\")\n",
        "print(x)"
      ],
      "metadata": {
        "colab": {
          "base_uri": "https://localhost:8080/"
        },
        "id": "qwLWO3m7OQCz",
        "outputId": "c2cdb659-5b41-4c7a-ff93-d049435ba86f"
      },
      "execution_count": 54,
      "outputs": [
        {
          "output_type": "stream",
          "name": "stdout",
          "text": [
            "5 2 9\n",
            "(3, 9, 8, 7)\n",
            "{'india': 'delhi', 'usa': 'washington'}\n"
          ]
        }
      ]
    },
    {
      "cell_type": "markdown",
      "source": [
        "How Functions are executed or stored in a memory"
      ],
      "metadata": {
        "id": "MjSTRsyIFLAl"
      }
    },
    {
      "cell_type": "code",
      "source": [
        "def is_even(num):\n",
        "  if num%2==0:\n",
        "    return True\n",
        "  else:\n",
        "    return False"
      ],
      "metadata": {
        "id": "bUuoCtwfFOfa"
      },
      "execution_count": 1,
      "outputs": []
    },
    {
      "cell_type": "code",
      "source": [
        "result = is_even(7)\n",
        "print(result)"
      ],
      "metadata": {
        "colab": {
          "base_uri": "https://localhost:8080/"
        },
        "id": "MA0XdC0vFXGy",
        "outputId": "a9e4a12a-ad02-4123-cc21-b26859902be5"
      },
      "execution_count": 2,
      "outputs": [
        {
          "output_type": "stream",
          "name": "stdout",
          "text": [
            "False\n"
          ]
        }
      ]
    },
    {
      "cell_type": "markdown",
      "source": [
        "Global & Local variables"
      ],
      "metadata": {
        "id": "iFXT6EBsINGF"
      }
    },
    {
      "cell_type": "code",
      "source": [
        "def func1(z):#accessing global from local is possible\n",
        "  print(x)\n",
        "  print(x+1)\n",
        ""
      ],
      "metadata": {
        "id": "k-NWeX8mFdvp"
      },
      "execution_count": 8,
      "outputs": []
    },
    {
      "cell_type": "code",
      "source": [
        "x=2\n",
        "func1(x)\n",
        "\n"
      ],
      "metadata": {
        "colab": {
          "base_uri": "https://localhost:8080/"
        },
        "id": "1vmCFhNiIhW-",
        "outputId": "1d7841e0-1ab4-4690-fdc2-c768ab5b6b5e"
      },
      "execution_count": 9,
      "outputs": [
        {
          "output_type": "stream",
          "name": "stdout",
          "text": [
            "2\n",
            "3\n"
          ]
        }
      ]
    },
    {
      "cell_type": "markdown",
      "source": [
        "Modifying global varibales from local space"
      ],
      "metadata": {
        "id": "D-913Ut1MLLC"
      }
    },
    {
      "cell_type": "code",
      "source": [
        "def func1(z):\n",
        "  x=x+1\n",
        "  print(x)\n"
      ],
      "metadata": {
        "id": "CwzSH6SKIxlX"
      },
      "execution_count": 11,
      "outputs": []
    },
    {
      "cell_type": "code",
      "source": [
        "x=5\n",
        "func1(x)"
      ],
      "metadata": {
        "colab": {
          "base_uri": "https://localhost:8080/",
          "height": 245
        },
        "id": "We4q1mQkMgar",
        "outputId": "39375021-7b65-48b2-e0c3-88e9cf8709be"
      },
      "execution_count": 12,
      "outputs": [
        {
          "output_type": "error",
          "ename": "UnboundLocalError",
          "evalue": "cannot access local variable 'x' where it is not associated with a value",
          "traceback": [
            "\u001b[0;31m---------------------------------------------------------------------------\u001b[0m",
            "\u001b[0;31mUnboundLocalError\u001b[0m                         Traceback (most recent call last)",
            "\u001b[0;32m<ipython-input-12-e153d02e52d2>\u001b[0m in \u001b[0;36m<cell line: 0>\u001b[0;34m()\u001b[0m\n\u001b[1;32m      1\u001b[0m \u001b[0mx\u001b[0m\u001b[0;34m=\u001b[0m\u001b[0;36m5\u001b[0m\u001b[0;34m\u001b[0m\u001b[0;34m\u001b[0m\u001b[0m\n\u001b[0;32m----> 2\u001b[0;31m \u001b[0mfunc1\u001b[0m\u001b[0;34m(\u001b[0m\u001b[0mx\u001b[0m\u001b[0;34m)\u001b[0m\u001b[0;34m\u001b[0m\u001b[0;34m\u001b[0m\u001b[0m\n\u001b[0m",
            "\u001b[0;32m<ipython-input-11-30d771f99f13>\u001b[0m in \u001b[0;36mfunc1\u001b[0;34m(z)\u001b[0m\n\u001b[1;32m      1\u001b[0m \u001b[0;32mdef\u001b[0m \u001b[0mfunc1\u001b[0m\u001b[0;34m(\u001b[0m\u001b[0mz\u001b[0m\u001b[0;34m)\u001b[0m\u001b[0;34m:\u001b[0m\u001b[0;34m\u001b[0m\u001b[0;34m\u001b[0m\u001b[0m\n\u001b[0;32m----> 2\u001b[0;31m   \u001b[0mx\u001b[0m\u001b[0;34m=\u001b[0m\u001b[0mx\u001b[0m\u001b[0;34m+\u001b[0m\u001b[0;36m1\u001b[0m\u001b[0;34m\u001b[0m\u001b[0;34m\u001b[0m\u001b[0m\n\u001b[0m\u001b[1;32m      3\u001b[0m   \u001b[0mprint\u001b[0m\u001b[0;34m(\u001b[0m\u001b[0mx\u001b[0m\u001b[0;34m)\u001b[0m\u001b[0;34m\u001b[0m\u001b[0;34m\u001b[0m\u001b[0m\n",
            "\u001b[0;31mUnboundLocalError\u001b[0m: cannot access local variable 'x' where it is not associated with a value"
          ]
        }
      ]
    },
    {
      "cell_type": "markdown",
      "source": [
        "Observation : Cannot modify global varibale from local"
      ],
      "metadata": {
        "id": "GNYdY09RRK20"
      }
    },
    {
      "cell_type": "markdown",
      "source": [
        "global keyword"
      ],
      "metadata": {
        "id": "q7Pm8xdjRCwK"
      }
    },
    {
      "cell_type": "code",
      "source": [
        "def func1(z):\n",
        "  global x\n",
        "  x=x+1\n",
        "  print(x)\n",
        "\n",
        "x=5\n",
        "func1(x)\n",
        "print(x)"
      ],
      "metadata": {
        "colab": {
          "base_uri": "https://localhost:8080/"
        },
        "id": "iJsCE8yoRRQ1",
        "outputId": "588e4fc4-e031-44bb-b232-4f5a863a76ec"
      },
      "execution_count": 13,
      "outputs": [
        {
          "output_type": "stream",
          "name": "stdout",
          "text": [
            "6\n",
            "6\n"
          ]
        }
      ]
    },
    {
      "cell_type": "markdown",
      "source": [
        "Observation : Python allows to modify the global varibales from function local space using global keyword"
      ],
      "metadata": {
        "id": "RNIjAnKPRd3a"
      }
    },
    {
      "cell_type": "markdown",
      "source": [
        "# **Nested Functions**"
      ],
      "metadata": {
        "id": "HAvRZcvJSsxR"
      }
    },
    {
      "cell_type": "code",
      "source": [
        "def f(x):\n",
        "  print(x)\n",
        "  def g(y):\n",
        "    print(y)\n",
        "  g(x)\n"
      ],
      "metadata": {
        "id": "8EBRrGY_Rkcg"
      },
      "execution_count": 18,
      "outputs": []
    },
    {
      "cell_type": "code",
      "source": [
        "x=5\n",
        "f(x)"
      ],
      "metadata": {
        "colab": {
          "base_uri": "https://localhost:8080/"
        },
        "id": "jr6uXxklTCj8",
        "outputId": "09bc15c8-995c-466a-ab1f-6fa1cd7179b5"
      },
      "execution_count": 20,
      "outputs": [
        {
          "output_type": "stream",
          "name": "stdout",
          "text": [
            "5\n",
            "5\n"
          ]
        }
      ]
    },
    {
      "cell_type": "code",
      "source": [
        "def f(x):\n",
        "  print(x)\n",
        "  def g(y):\n",
        "    print(y)\n",
        "    def h(z):\n",
        "      print(z)\n",
        "    h(x)\n",
        "\n",
        "  g(x)"
      ],
      "metadata": {
        "id": "huTQXo3CTvb2"
      },
      "execution_count": 21,
      "outputs": []
    },
    {
      "cell_type": "code",
      "source": [
        "x=5\n",
        "f(x)"
      ],
      "metadata": {
        "colab": {
          "base_uri": "https://localhost:8080/"
        },
        "id": "eyK2UvwCUuDT",
        "outputId": "249f6fe3-831e-4f7b-f058-6d51ad96303a"
      },
      "execution_count": 22,
      "outputs": [
        {
          "output_type": "stream",
          "name": "stdout",
          "text": [
            "5\n",
            "5\n",
            "5\n"
          ]
        }
      ]
    },
    {
      "cell_type": "code",
      "source": [
        "def func1():\n",
        "  print(\"inside func1\")\n",
        "  def func2():\n",
        "    print(\"inside func2\")\n",
        "  return func2\n",
        "\n",
        "x=func1()\n",
        "x()\n",
        ""
      ],
      "metadata": {
        "colab": {
          "base_uri": "https://localhost:8080/"
        },
        "id": "WVgMe8-UDwOK",
        "outputId": "3e854960-b043-4968-d3e8-9d340c5c455b"
      },
      "execution_count": 2,
      "outputs": [
        {
          "output_type": "stream",
          "name": "stdout",
          "text": [
            "inside func1\n",
            "inside func2\n"
          ]
        }
      ]
    },
    {
      "cell_type": "code",
      "source": [
        "i=0\n",
        "result=0\n",
        "def func1(a,b):\n",
        "  global i\n",
        "  global result\n",
        "  if i<b:\n",
        "    i+=1\n",
        "    result=result+a\n",
        "    return func1(a,b)\n",
        "\n",
        "func1(2,3)\n",
        "print(result)"
      ],
      "metadata": {
        "colab": {
          "base_uri": "https://localhost:8080/"
        },
        "id": "ia7yaRZVt79P",
        "outputId": "896dd168-2bf2-4695-baca-52b2c3c95980"
      },
      "execution_count": 3,
      "outputs": [
        {
          "output_type": "stream",
          "name": "stdout",
          "text": [
            "6\n"
          ]
        }
      ]
    },
    {
      "cell_type": "markdown",
      "source": [
        "# **Functions are 1st class citizens**"
      ],
      "metadata": {
        "id": "OBw_0lkih5Qg"
      }
    },
    {
      "cell_type": "code",
      "source": [
        "#type\n",
        "\n",
        "def func1():\n",
        "  print(\"I am inside func1\")\n",
        ""
      ],
      "metadata": {
        "id": "Ly-jB3fBh-Zi"
      },
      "execution_count": 14,
      "outputs": []
    },
    {
      "cell_type": "code",
      "source": [
        "func1()"
      ],
      "metadata": {
        "colab": {
          "base_uri": "https://localhost:8080/"
        },
        "id": "-twJpkKKiF-q",
        "outputId": "5b19dad8-48a7-437f-f890-a376ed8a598b"
      },
      "execution_count": 15,
      "outputs": [
        {
          "output_type": "stream",
          "name": "stdout",
          "text": [
            "I am inside func1\n"
          ]
        }
      ]
    },
    {
      "cell_type": "code",
      "source": [
        "type(func1)"
      ],
      "metadata": {
        "colab": {
          "base_uri": "https://localhost:8080/"
        },
        "id": "p4oVo6oRiIZw",
        "outputId": "2e01ed25-701b-4d9f-9265-af14af51d4ee"
      },
      "execution_count": 5,
      "outputs": [
        {
          "output_type": "execute_result",
          "data": {
            "text/plain": [
              "function"
            ]
          },
          "metadata": {},
          "execution_count": 5
        }
      ]
    },
    {
      "cell_type": "code",
      "source": [
        "#id\n",
        "\n",
        "id(func1)"
      ],
      "metadata": {
        "colab": {
          "base_uri": "https://localhost:8080/"
        },
        "id": "j-FnQp1kiNar",
        "outputId": "1b8aeb6b-cfa7-453b-e45e-c5a92a01b7e7"
      },
      "execution_count": 6,
      "outputs": [
        {
          "output_type": "execute_result",
          "data": {
            "text/plain": [
              "140440332617504"
            ]
          },
          "metadata": {},
          "execution_count": 6
        }
      ]
    },
    {
      "cell_type": "code",
      "source": [
        "#aliasing\n",
        "\n",
        "a=func1\n",
        "a()"
      ],
      "metadata": {
        "colab": {
          "base_uri": "https://localhost:8080/"
        },
        "id": "vvsdU8RQib1a",
        "outputId": "c8a54915-1425-484f-977a-8e0bea1fb1db"
      },
      "execution_count": 7,
      "outputs": [
        {
          "output_type": "stream",
          "name": "stdout",
          "text": [
            "I am inside func1\n"
          ]
        }
      ]
    },
    {
      "cell_type": "code",
      "source": [
        "print(id(a))\n",
        "print(id(func1))"
      ],
      "metadata": {
        "colab": {
          "base_uri": "https://localhost:8080/"
        },
        "id": "HQNyd1vxivqr",
        "outputId": "058e58eb-3bac-4cb0-faa5-2b7baa678bb3"
      },
      "execution_count": 8,
      "outputs": [
        {
          "output_type": "stream",
          "name": "stdout",
          "text": [
            "140440332617504\n",
            "140440332617504\n"
          ]
        }
      ]
    },
    {
      "cell_type": "code",
      "source": [
        "#storing\n",
        "\n",
        "l=[1,2,3,func1]\n",
        "l[-1]()"
      ],
      "metadata": {
        "colab": {
          "base_uri": "https://localhost:8080/"
        },
        "id": "zJQCN4Uhi0k5",
        "outputId": "387d04a3-1b94-4fce-f432-0d8a22182be3"
      },
      "execution_count": 11,
      "outputs": [
        {
          "output_type": "stream",
          "name": "stdout",
          "text": [
            "I am inside func1\n"
          ]
        }
      ]
    },
    {
      "cell_type": "code",
      "source": [
        "#delete\n",
        "\n",
        "del func1"
      ],
      "metadata": {
        "id": "qNGAB-Z3jo6w"
      },
      "execution_count": 17,
      "outputs": []
    },
    {
      "cell_type": "code",
      "source": [
        "func1()"
      ],
      "metadata": {
        "colab": {
          "base_uri": "https://localhost:8080/",
          "height": 141
        },
        "id": "nHwTwhzXjwwD",
        "outputId": "6c2534d5-e6b1-4c29-c06a-69bf947703fd"
      },
      "execution_count": 18,
      "outputs": [
        {
          "output_type": "error",
          "ename": "NameError",
          "evalue": "name 'func1' is not defined",
          "traceback": [
            "\u001b[0;31m---------------------------------------------------------------------------\u001b[0m",
            "\u001b[0;31mNameError\u001b[0m                                 Traceback (most recent call last)",
            "\u001b[0;32m<ipython-input-18-d88c41ef3303>\u001b[0m in \u001b[0;36m<cell line: 0>\u001b[0;34m()\u001b[0m\n\u001b[0;32m----> 1\u001b[0;31m \u001b[0mfunc1\u001b[0m\u001b[0;34m(\u001b[0m\u001b[0;34m)\u001b[0m\u001b[0;34m\u001b[0m\u001b[0;34m\u001b[0m\u001b[0m\n\u001b[0m",
            "\u001b[0;31mNameError\u001b[0m: name 'func1' is not defined"
          ]
        }
      ]
    },
    {
      "cell_type": "code",
      "source": [
        "#Function returning another function\n",
        "\n",
        "def func1():\n",
        "  print(\"i am inside a func1\")\n",
        "  def sample():\n",
        "    print(\"i am inside a sample\")\n",
        "  return sample\n",
        "\n",
        "x=func1()\n",
        "x()"
      ],
      "metadata": {
        "colab": {
          "base_uri": "https://localhost:8080/"
        },
        "id": "uzf3rbSmjyNi",
        "outputId": "a2dceb5e-0028-4057-ac6d-003dbae2d354"
      },
      "execution_count": 19,
      "outputs": [
        {
          "output_type": "stream",
          "name": "stdout",
          "text": [
            "i am inside a func1\n",
            "i am inside a sample\n"
          ]
        }
      ]
    },
    {
      "cell_type": "code",
      "source": [
        "def square(x):\n",
        "  return x**2\n",
        "\n",
        "def func1():\n",
        "  print(\"I am inside func1\")\n",
        "  return square\n",
        "\n",
        "x=func1()\n",
        "x(5)\n",
        "\n"
      ],
      "metadata": {
        "colab": {
          "base_uri": "https://localhost:8080/"
        },
        "id": "HiNPlw-pmA6h",
        "outputId": "bdab00b3-ef81-4724-b8a4-291372c94c3c"
      },
      "execution_count": 21,
      "outputs": [
        {
          "output_type": "stream",
          "name": "stdout",
          "text": [
            "I am inside func1\n"
          ]
        },
        {
          "output_type": "execute_result",
          "data": {
            "text/plain": [
              "25"
            ]
          },
          "metadata": {},
          "execution_count": 21
        }
      ]
    },
    {
      "cell_type": "code",
      "source": [
        "#passing function as an arguments\n",
        "\n",
        "def square(num):\n",
        "  return num**2\n",
        "\n",
        "def func1(z,num):\n",
        "  print(\"I am inside func1\")\n",
        "  result = z(num)\n",
        "  return result\n",
        "\n",
        "num=5\n",
        "x=func1(square,num)\n",
        "print(x)"
      ],
      "metadata": {
        "colab": {
          "base_uri": "https://localhost:8080/"
        },
        "id": "GvxSQOQAncNz",
        "outputId": "21c48378-9e13-4e8b-8215-6eb50ea4da38"
      },
      "execution_count": 23,
      "outputs": [
        {
          "output_type": "stream",
          "name": "stdout",
          "text": [
            "I am inside func1\n",
            "25\n"
          ]
        }
      ]
    },
    {
      "cell_type": "code",
      "source": [
        "#lambda function\n",
        "\n",
        "a=lambda x,y:x+y\n",
        "print(a(2,3))"
      ],
      "metadata": {
        "colab": {
          "base_uri": "https://localhost:8080/"
        },
        "id": "ijnxpRurwArS",
        "outputId": "174b0eca-8bcb-4adb-d5c5-1d085210697d"
      },
      "execution_count": 35,
      "outputs": [
        {
          "output_type": "stream",
          "name": "stdout",
          "text": [
            "5\n"
          ]
        }
      ]
    },
    {
      "cell_type": "code",
      "source": [
        "a=lambda x:x**2\n",
        "print(a(5))"
      ],
      "metadata": {
        "colab": {
          "base_uri": "https://localhost:8080/"
        },
        "id": "-D8uZ7LAwGkj",
        "outputId": "b135ccc3-57cb-44ce-c655-92d4b975748a"
      },
      "execution_count": 36,
      "outputs": [
        {
          "output_type": "stream",
          "name": "stdout",
          "text": [
            "25\n"
          ]
        }
      ]
    },
    {
      "cell_type": "code",
      "source": [
        "def is_even_odd(num):\n",
        "  if num%2==0:\n",
        "    return True\n",
        "  else:\n",
        "    return False\n",
        "\n",
        "is_even_odd(5)"
      ],
      "metadata": {
        "colab": {
          "base_uri": "https://localhost:8080/"
        },
        "id": "wIPZ7L3sxPdr",
        "outputId": "85dbfd3c-b735-402f-a7f4-1090e521cbff"
      },
      "execution_count": 37,
      "outputs": [
        {
          "output_type": "execute_result",
          "data": {
            "text/plain": [
              "False"
            ]
          },
          "metadata": {},
          "execution_count": 37
        }
      ]
    },
    {
      "cell_type": "code",
      "source": [
        "a = lambda num:True if num%2==0 else False\n",
        "print(a(5))"
      ],
      "metadata": {
        "colab": {
          "base_uri": "https://localhost:8080/"
        },
        "id": "uK7lKvtZw8TY",
        "outputId": "6fdaa385-adcc-4448-ad1c-00cc9dae5672"
      },
      "execution_count": 39,
      "outputs": [
        {
          "output_type": "stream",
          "name": "stdout",
          "text": [
            "False\n"
          ]
        }
      ]
    },
    {
      "cell_type": "code",
      "source": [
        "def is_even_odd(num):\n",
        "\n",
        "  return True if num%2==0 else False\n",
        "\n",
        "is_even_odd(5)"
      ],
      "metadata": {
        "colab": {
          "base_uri": "https://localhost:8080/"
        },
        "id": "0pG_IX3sxbVf",
        "outputId": "67ea82e9-6e12-4b3f-c815-9e124c5abe48"
      },
      "execution_count": 40,
      "outputs": [
        {
          "output_type": "execute_result",
          "data": {
            "text/plain": [
              "False"
            ]
          },
          "metadata": {},
          "execution_count": 40
        }
      ]
    },
    {
      "cell_type": "markdown",
      "source": [
        "**Higher Order Functions(HOF)**"
      ],
      "metadata": {
        "id": "tJTntOkYt_D9"
      }
    },
    {
      "cell_type": "code",
      "source": [
        "#map\n",
        "\n",
        "a=map(lambda x:x**2,[1,2,3,4])"
      ],
      "metadata": {
        "id": "i6l31U4e1W9S"
      },
      "execution_count": 3,
      "outputs": []
    },
    {
      "cell_type": "code",
      "source": [
        "a"
      ],
      "metadata": {
        "colab": {
          "base_uri": "https://localhost:8080/"
        },
        "id": "LBHXfHHDvfOX",
        "outputId": "edd98b2d-30d8-473c-ec8a-f24b412eb948"
      },
      "execution_count": 4,
      "outputs": [
        {
          "output_type": "execute_result",
          "data": {
            "text/plain": [
              "<map at 0x78cfb38355a0>"
            ]
          },
          "metadata": {},
          "execution_count": 4
        }
      ]
    },
    {
      "cell_type": "code",
      "source": [
        "for i in a:\n",
        "  print(i)"
      ],
      "metadata": {
        "colab": {
          "base_uri": "https://localhost:8080/"
        },
        "id": "iaExEG7yviTR",
        "outputId": "652cf028-6f9b-45cd-f438-ea8b44e158be"
      },
      "execution_count": 5,
      "outputs": [
        {
          "output_type": "stream",
          "name": "stdout",
          "text": [
            "1\n",
            "4\n",
            "9\n",
            "16\n"
          ]
        }
      ]
    },
    {
      "cell_type": "code",
      "source": [
        "print(list(map(lambda x:x*1.5,[1,2,3,4])))"
      ],
      "metadata": {
        "colab": {
          "base_uri": "https://localhost:8080/"
        },
        "id": "YVXzjPGjvnTe",
        "outputId": "39b3e802-a07f-457d-e622-305493ed9f43"
      },
      "execution_count": 12,
      "outputs": [
        {
          "output_type": "stream",
          "name": "stdout",
          "text": [
            "[1.5, 3.0, 4.5, 6.0]\n"
          ]
        }
      ]
    },
    {
      "cell_type": "code",
      "source": [
        "a=list(map(lambda x:x**2,[1,2,3,4]))\n",
        "print(a)"
      ],
      "metadata": {
        "colab": {
          "base_uri": "https://localhost:8080/"
        },
        "id": "xw6ReOMXvvv-",
        "outputId": "46345e6e-b80f-4a98-82bb-2c74a9b81b8a"
      },
      "execution_count": 7,
      "outputs": [
        {
          "output_type": "stream",
          "name": "stdout",
          "text": [
            "[1, 4, 9, 16]\n"
          ]
        }
      ]
    },
    {
      "cell_type": "code",
      "source": [
        "def square(x):\n",
        "  return x**2\n",
        "\n",
        "def cube(x):\n",
        "  return x**3\n",
        "\n",
        "def mul(x):\n",
        "  return x*1.5\n",
        "\n",
        "print(list(map(mul,[1,2,3,4])))\n",
        "\n",
        "\n",
        "\n",
        "def algebra(x):\n",
        "  square(x)\n",
        "  cube(x)\n",
        "  mul(x)\n",
        "\n",
        "\n",
        "def algebrav2(x):\n",
        ""
      ],
      "metadata": {
        "colab": {
          "base_uri": "https://localhost:8080/"
        },
        "id": "AUfLhHrhv2sh",
        "outputId": "06d90d7b-b9e2-498f-8e05-7fc88eebacea"
      },
      "execution_count": 10,
      "outputs": [
        {
          "output_type": "stream",
          "name": "stdout",
          "text": [
            "[1.5, 3.0, 4.5, 6.0]\n"
          ]
        }
      ]
    },
    {
      "cell_type": "code",
      "source": [
        "#filter\n",
        "filter(lambda x:x>2,[1,2,3,4])"
      ],
      "metadata": {
        "colab": {
          "base_uri": "https://localhost:8080/"
        },
        "id": "0TQ5X4rrwSOj",
        "outputId": "2d45fb3a-b6f5-470f-f36d-d4c8374d813e"
      },
      "execution_count": 15,
      "outputs": [
        {
          "output_type": "execute_result",
          "data": {
            "text/plain": [
              "<filter at 0x78cfb39be620>"
            ]
          },
          "metadata": {},
          "execution_count": 15
        }
      ]
    },
    {
      "cell_type": "code",
      "source": [
        "a=filter(lambda x:x>2,[1,2,3,4])\n",
        "a"
      ],
      "metadata": {
        "colab": {
          "base_uri": "https://localhost:8080/"
        },
        "id": "jwB8vC-Tx3jU",
        "outputId": "5d1ce512-fa09-4c9b-f171-5525631007da"
      },
      "execution_count": 16,
      "outputs": [
        {
          "output_type": "execute_result",
          "data": {
            "text/plain": [
              "<filter at 0x78cfb4259810>"
            ]
          },
          "metadata": {},
          "execution_count": 16
        }
      ]
    },
    {
      "cell_type": "code",
      "source": [
        "for i in a:\n",
        "  print(i)"
      ],
      "metadata": {
        "colab": {
          "base_uri": "https://localhost:8080/"
        },
        "id": "Xkdw0t1RyMSu",
        "outputId": "2485a672-616f-4c96-a2cd-cc5825b5c703"
      },
      "execution_count": 17,
      "outputs": [
        {
          "output_type": "stream",
          "name": "stdout",
          "text": [
            "3\n",
            "4\n"
          ]
        }
      ]
    },
    {
      "cell_type": "code",
      "source": [
        "list(filter(lambda x:x>2,[1,2,3,4]))"
      ],
      "metadata": {
        "colab": {
          "base_uri": "https://localhost:8080/"
        },
        "id": "_sCjyIz3yQHh",
        "outputId": "1699bc5b-80d1-42d2-ab6f-22c871023b50"
      },
      "execution_count": 18,
      "outputs": [
        {
          "output_type": "execute_result",
          "data": {
            "text/plain": [
              "[3, 4]"
            ]
          },
          "metadata": {},
          "execution_count": 18
        }
      ]
    },
    {
      "cell_type": "code",
      "source": [
        "#reduce\n",
        "from functools import reduce\n",
        "z=reduce(lambda x,y:x+y,[1,2,3,4])\n",
        "print(z)"
      ],
      "metadata": {
        "colab": {
          "base_uri": "https://localhost:8080/"
        },
        "id": "nZrxZJHTzOL3",
        "outputId": "7a82351f-b47c-4d6f-a59a-e09733d7a1e9"
      },
      "execution_count": 19,
      "outputs": [
        {
          "output_type": "stream",
          "name": "stdout",
          "text": [
            "10\n"
          ]
        }
      ]
    },
    {
      "cell_type": "code",
      "source": [
        "logs = [\n",
        "    \"2025-01-27 10:15:30 0.2 ERROR 500 Internal Server Error\",\n",
        "    \"2025-01-27 10:16:10 0.3 ERROR 404 Not Found\",\n",
        "    \"2025-01-27 10:17:45 0.5 ERROR 503 Service Unavailable\",\n",
        "    \"2025-01-27 10:18:00 0.7 INFO Service Started\"\n",
        "]\n",
        "\n",
        "\n"
      ],
      "metadata": {
        "id": "98o7u6-xzhVK"
      },
      "execution_count": 20,
      "outputs": []
    },
    {
      "cell_type": "code",
      "source": [
        "error_logs = list(filter(lambda x:x if \"ERROR\" in x else None, logs))\n"
      ],
      "metadata": {
        "id": "piILAwZI2jKu"
      },
      "execution_count": 28,
      "outputs": []
    },
    {
      "cell_type": "code",
      "source": [
        "error_logs"
      ],
      "metadata": {
        "colab": {
          "base_uri": "https://localhost:8080/"
        },
        "id": "zX1Pg4uP4Jfp",
        "outputId": "ce81bb8a-15b2-451e-8d5d-dc409febd517"
      },
      "execution_count": 29,
      "outputs": [
        {
          "output_type": "execute_result",
          "data": {
            "text/plain": [
              "['2025-01-27 10:15:30 0.2 ERROR 500 Internal Server Error',\n",
              " '2025-01-27 10:16:10 0.3 ERROR 404 Not Found',\n",
              " '2025-01-27 10:17:45 0.5 ERROR 503 Service Unavailable']"
            ]
          },
          "metadata": {},
          "execution_count": 29
        }
      ]
    },
    {
      "cell_type": "code",
      "source": [
        "x='2025-01-27 10:15:30 0.2 ERROR 500 Internal Server Error'\n",
        "x.split(\" \")"
      ],
      "metadata": {
        "colab": {
          "base_uri": "https://localhost:8080/"
        },
        "id": "tkiDLctr4fPa",
        "outputId": "04d266f5-0e3e-4c18-b8aa-d0cff4085af0"
      },
      "execution_count": 36,
      "outputs": [
        {
          "output_type": "execute_result",
          "data": {
            "text/plain": [
              "['2025-01-27',\n",
              " '10:15:30',\n",
              " '0.2',\n",
              " 'ERROR',\n",
              " '500',\n",
              " 'Internal',\n",
              " 'Server',\n",
              " 'Error']"
            ]
          },
          "metadata": {},
          "execution_count": 36
        }
      ]
    },
    {
      "cell_type": "code",
      "source": [
        "x.split(\" \")[5:]"
      ],
      "metadata": {
        "colab": {
          "base_uri": "https://localhost:8080/"
        },
        "id": "2J3Nm94_5vKF",
        "outputId": "1b797f6e-d85f-4fe0-dd21-31c1cf446105"
      },
      "execution_count": 37,
      "outputs": [
        {
          "output_type": "execute_result",
          "data": {
            "text/plain": [
              "['Internal', 'Server', 'Error']"
            ]
          },
          "metadata": {},
          "execution_count": 37
        }
      ]
    },
    {
      "cell_type": "code",
      "source": [
        "formatted_error_logs = list(map(lambda x:{\n",
        "    \"timestamp\":x.split(\" \")[0] +\" \"+ x.split(\" \")[1],\n",
        "    \"duration\":float(x.split(\" \")[2]),\n",
        "    \"error_code\":int(x.split(\" \")[4]),\n",
        "    \"error_msg\":\" \".join(x.split(\" \")[5:])\n",
        "\n",
        "},error_logs))"
      ],
      "metadata": {
        "id": "qX85lVtC33HR"
      },
      "execution_count": 41,
      "outputs": []
    },
    {
      "cell_type": "code",
      "source": [
        "formatted_error_logs"
      ],
      "metadata": {
        "colab": {
          "base_uri": "https://localhost:8080/"
        },
        "id": "T8rg_qbS7j9U",
        "outputId": "981cdf3e-14f1-423a-a9ce-8976f8feb13b"
      },
      "execution_count": 42,
      "outputs": [
        {
          "output_type": "execute_result",
          "data": {
            "text/plain": [
              "[{'timestamp': '2025-01-27 10:15:30',\n",
              "  'duration': 0.2,\n",
              "  'error_code': 500,\n",
              "  'error_msg': 'Internal Server Error'},\n",
              " {'timestamp': '2025-01-27 10:16:10',\n",
              "  'duration': 0.3,\n",
              "  'error_code': 404,\n",
              "  'error_msg': 'Not Found'},\n",
              " {'timestamp': '2025-01-27 10:17:45',\n",
              "  'duration': 0.5,\n",
              "  'error_code': 503,\n",
              "  'error_msg': 'Service Unavailable'}]"
            ]
          },
          "metadata": {},
          "execution_count": 42
        }
      ]
    },
    {
      "cell_type": "code",
      "source": [
        "durations = list(map(lambda x:x[\"duration\"],formatted_error_logs))"
      ],
      "metadata": {
        "id": "POnUxPlr8Qu7"
      },
      "execution_count": 43,
      "outputs": []
    },
    {
      "cell_type": "code",
      "source": [
        "durations"
      ],
      "metadata": {
        "colab": {
          "base_uri": "https://localhost:8080/"
        },
        "id": "xoknS9xf8bHL",
        "outputId": "907ddeda-b53c-4465-a229-3e3db30c5566"
      },
      "execution_count": 44,
      "outputs": [
        {
          "output_type": "execute_result",
          "data": {
            "text/plain": [
              "[0.2, 0.3, 0.5]"
            ]
          },
          "metadata": {},
          "execution_count": 44
        }
      ]
    },
    {
      "cell_type": "code",
      "source": [
        "total_duration_error = reduce(lambda x,y:x+y,durations)"
      ],
      "metadata": {
        "id": "K8_ruda48cSz"
      },
      "execution_count": 45,
      "outputs": []
    },
    {
      "cell_type": "code",
      "source": [
        "total_duration_error"
      ],
      "metadata": {
        "colab": {
          "base_uri": "https://localhost:8080/"
        },
        "id": "PAi-LR9F8tC4",
        "outputId": "606c979d-f5cf-4f98-b4b8-b78799f33218"
      },
      "execution_count": 46,
      "outputs": [
        {
          "output_type": "execute_result",
          "data": {
            "text/plain": [
              "1.0"
            ]
          },
          "metadata": {},
          "execution_count": 46
        }
      ]
    },
    {
      "cell_type": "markdown",
      "source": [
        "**Recursive Functions**"
      ],
      "metadata": {
        "id": "URqfaTOEd7tE"
      }
    },
    {
      "cell_type": "code",
      "source": [
        "#factorial of number\n",
        "\n",
        "def fact(num):\n",
        "  if num==1:\n",
        "    return 1\n",
        "  else:\n",
        "    return num*fact(num-1)\n",
        "\n",
        "fact(5)"
      ],
      "metadata": {
        "colab": {
          "base_uri": "https://localhost:8080/"
        },
        "id": "i3r46Jwsd_WX",
        "outputId": "1c0cadb6-d745-4627-8b73-ea80224532f4"
      },
      "execution_count": 1,
      "outputs": [
        {
          "output_type": "execute_result",
          "data": {
            "text/plain": [
              "120"
            ]
          },
          "metadata": {},
          "execution_count": 1
        }
      ]
    },
    {
      "cell_type": "code",
      "source": [
        "#sum of digits of given integer\n",
        "\n",
        "def sum_of_digits(num):\n",
        "  if num==0:\n",
        "    return 0\n",
        "  else:\n",
        "    return num%10 + sum_of_digits(num//10)\n",
        "\n",
        "sum_of_digits(12345)"
      ],
      "metadata": {
        "colab": {
          "base_uri": "https://localhost:8080/"
        },
        "id": "-kY09kYXeOdC",
        "outputId": "18c71e39-fe70-4871-af77-63a613bbad47"
      },
      "execution_count": 2,
      "outputs": [
        {
          "output_type": "execute_result",
          "data": {
            "text/plain": [
              "15"
            ]
          },
          "metadata": {},
          "execution_count": 2
        }
      ]
    },
    {
      "cell_type": "code",
      "source": [
        "#fibanocci of given number\n",
        "\n",
        "def fib(n):\n",
        "  if n==0:\n",
        "    return 0\n",
        "  elif n==1:\n",
        "    return 1\n",
        "  else:\n",
        "    return fib(n-1)+fib(n-2)\n",
        "\n",
        "fib(10)"
      ],
      "metadata": {
        "colab": {
          "base_uri": "https://localhost:8080/"
        },
        "id": "E9ltrQWreZQj",
        "outputId": "920902d9-af07-46f6-f65d-715596642dad"
      },
      "execution_count": 4,
      "outputs": [
        {
          "output_type": "execute_result",
          "data": {
            "text/plain": [
              "55"
            ]
          },
          "metadata": {},
          "execution_count": 4
        }
      ]
    }
  ]
}