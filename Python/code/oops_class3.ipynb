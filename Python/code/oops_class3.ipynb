{
  "nbformat": 4,
  "nbformat_minor": 0,
  "metadata": {
    "colab": {
      "provenance": []
    },
    "kernelspec": {
      "name": "python3",
      "display_name": "Python 3"
    },
    "language_info": {
      "name": "python"
    }
  },
  "cells": [
    {
      "cell_type": "code",
      "execution_count": 40,
      "metadata": {
        "id": "Or1iLEYB79Sr"
      },
      "outputs": [],
      "source": [
        "class Bank():\n",
        "\n",
        "  def __init__(self):\n",
        "    self.rate_of_intrest = 0.15\n",
        "\n",
        "  def personal_loan_calc(self,amount,tenure):\n",
        "    p = amount\n",
        "    t = tenure\n",
        "    r = self.rate_of_intrest\n",
        "    total_amount = p+(p*r*t)/100\n",
        "    return total_amount\n",
        "\n",
        "\n",
        "  def home_loan_calc(self,amount,tenure):\n",
        "    p = amount\n",
        "    t = tenure\n",
        "    r = self.rate_of_intrest\n",
        "    total_amount = p+(p*r*t)/100\n",
        "    return total_amount\n",
        "\n",
        "\n",
        "\n"
      ]
    },
    {
      "cell_type": "code",
      "source": [
        "p1= Bank()"
      ],
      "metadata": {
        "id": "CeyAMZoS-lrx"
      },
      "execution_count": 41,
      "outputs": []
    },
    {
      "cell_type": "code",
      "source": [
        "p1.home_loan_calc(500000,5)"
      ],
      "metadata": {
        "colab": {
          "base_uri": "https://localhost:8080/"
        },
        "id": "TEgCG7pBEFL8",
        "outputId": "5d3bde9b-19df-4de4-85ae-df1c0a077d47"
      },
      "execution_count": 42,
      "outputs": [
        {
          "output_type": "execute_result",
          "data": {
            "text/plain": [
              "503750.0"
            ]
          },
          "metadata": {},
          "execution_count": 42
        }
      ]
    },
    {
      "cell_type": "code",
      "source": [
        "int(p1.personal_loan_calc(500000,5))"
      ],
      "metadata": {
        "colab": {
          "base_uri": "https://localhost:8080/"
        },
        "id": "lKHjN_dW_F7m",
        "outputId": "c71cbbd3-a58c-412c-808a-5ad90b4dc46f"
      },
      "execution_count": 43,
      "outputs": [
        {
          "output_type": "execute_result",
          "data": {
            "text/plain": [
              "503750"
            ]
          },
          "metadata": {},
          "execution_count": 43
        }
      ]
    },
    {
      "cell_type": "code",
      "source": [
        "p2 = Bank()"
      ],
      "metadata": {
        "id": "XL8uZo68_9Uo"
      },
      "execution_count": 44,
      "outputs": []
    },
    {
      "cell_type": "code",
      "source": [
        "p2.home_loan_calc(500000,5)"
      ],
      "metadata": {
        "colab": {
          "base_uri": "https://localhost:8080/"
        },
        "id": "WuNGZGmpAXZd",
        "outputId": "78f4bb8e-5aee-4555-f8cb-646321448dac"
      },
      "execution_count": 45,
      "outputs": [
        {
          "output_type": "execute_result",
          "data": {
            "text/plain": [
              "503750.0"
            ]
          },
          "metadata": {},
          "execution_count": 45
        }
      ]
    },
    {
      "cell_type": "code",
      "source": [
        "p2.rate_of_intrest = 0.50\n"
      ],
      "metadata": {
        "id": "uZ4wDGYeAdr8"
      },
      "execution_count": 46,
      "outputs": []
    },
    {
      "cell_type": "code",
      "source": [
        "p2.personal_loan_calc(500000,5)"
      ],
      "metadata": {
        "colab": {
          "base_uri": "https://localhost:8080/"
        },
        "id": "LAuiO961E0yh",
        "outputId": "2100333c-73e6-4704-d2d6-f7ef1693b238"
      },
      "execution_count": 47,
      "outputs": [
        {
          "output_type": "execute_result",
          "data": {
            "text/plain": [
              "512500.0"
            ]
          },
          "metadata": {},
          "execution_count": 47
        }
      ]
    },
    {
      "cell_type": "code",
      "source": [
        "p2.home_loan_calc(500000,5)"
      ],
      "metadata": {
        "colab": {
          "base_uri": "https://localhost:8080/"
        },
        "id": "5OWQ4g9AA2Aa",
        "outputId": "a85f678b-c14b-4747-cb74-f360e9976cfa"
      },
      "execution_count": 48,
      "outputs": [
        {
          "output_type": "execute_result",
          "data": {
            "text/plain": [
              "512500.0"
            ]
          },
          "metadata": {},
          "execution_count": 48
        }
      ]
    },
    {
      "cell_type": "code",
      "source": [
        "class Bank():\n",
        "\n",
        "  def __init__(self):\n",
        "    self.__rate_of_intrest = 0.15\n",
        "\n",
        "  def personal_loan_calc(self,amount,tenure):\n",
        "    p = amount\n",
        "    t = tenure\n",
        "    r = self.__rate_of_intrest\n",
        "    total_amount = p+(p*r*t)/100\n",
        "    return total_amount\n",
        "\n",
        "\n",
        "  def __home_loan_calc(self,amount,tenure):\n",
        "    p = amount\n",
        "    t = tenure\n",
        "    r = self.__rate_of_intrest\n",
        "    total_amount = p+(p*r*t)/100\n",
        "    return total_amount\n",
        "\n",
        "\n",
        "  def sample(self,amount,tenure):\n",
        "    total_amount = self.__home_loan_calc(amount,tenure)\n",
        "    return total_amount"
      ],
      "metadata": {
        "id": "k_Nz8xGfFYCJ"
      },
      "execution_count": 98,
      "outputs": []
    },
    {
      "cell_type": "code",
      "source": [
        "p1=Bank()\n",
        "p1.personal_loan_calc(500000,5)"
      ],
      "metadata": {
        "colab": {
          "base_uri": "https://localhost:8080/"
        },
        "id": "_9GlBTjiFZQt",
        "outputId": "20f76dcb-047e-4851-9214-7576767428f9"
      },
      "execution_count": 99,
      "outputs": [
        {
          "output_type": "execute_result",
          "data": {
            "text/plain": [
              "503750.0"
            ]
          },
          "metadata": {},
          "execution_count": 99
        }
      ]
    },
    {
      "cell_type": "code",
      "source": [],
      "metadata": {
        "id": "dFzuNG7oJ01h"
      },
      "execution_count": null,
      "outputs": []
    },
    {
      "cell_type": "code",
      "source": [
        "p1.home_loan_calc(500000,5)"
      ],
      "metadata": {
        "colab": {
          "base_uri": "https://localhost:8080/",
          "height": 146
        },
        "id": "Lzq3wLIHFhVe",
        "outputId": "82b5b33d-01ee-48b5-933b-e27481fa574d"
      },
      "execution_count": 100,
      "outputs": [
        {
          "output_type": "error",
          "ename": "AttributeError",
          "evalue": "'Bank' object has no attribute 'home_loan_calc'",
          "traceback": [
            "\u001b[0;31m---------------------------------------------------------------------------\u001b[0m",
            "\u001b[0;31mAttributeError\u001b[0m                            Traceback (most recent call last)",
            "\u001b[0;32m<ipython-input-100-264931c4f559>\u001b[0m in \u001b[0;36m<cell line: 0>\u001b[0;34m()\u001b[0m\n\u001b[0;32m----> 1\u001b[0;31m \u001b[0mp1\u001b[0m\u001b[0;34m.\u001b[0m\u001b[0mhome_loan_calc\u001b[0m\u001b[0;34m(\u001b[0m\u001b[0;36m500000\u001b[0m\u001b[0;34m,\u001b[0m\u001b[0;36m5\u001b[0m\u001b[0;34m)\u001b[0m\u001b[0;34m\u001b[0m\u001b[0;34m\u001b[0m\u001b[0m\n\u001b[0m",
            "\u001b[0;31mAttributeError\u001b[0m: 'Bank' object has no attribute 'home_loan_calc'"
          ]
        }
      ]
    },
    {
      "cell_type": "code",
      "source": [
        "p1.__home_loan_calc(500000,5)"
      ],
      "metadata": {
        "colab": {
          "base_uri": "https://localhost:8080/",
          "height": 146
        },
        "id": "7WlLrSb3NpWB",
        "outputId": "4a301454-504f-412b-d634-fe28c7664203"
      },
      "execution_count": 101,
      "outputs": [
        {
          "output_type": "error",
          "ename": "AttributeError",
          "evalue": "'Bank' object has no attribute '__home_loan_calc'",
          "traceback": [
            "\u001b[0;31m---------------------------------------------------------------------------\u001b[0m",
            "\u001b[0;31mAttributeError\u001b[0m                            Traceback (most recent call last)",
            "\u001b[0;32m<ipython-input-101-ab69c639d7ea>\u001b[0m in \u001b[0;36m<cell line: 0>\u001b[0;34m()\u001b[0m\n\u001b[0;32m----> 1\u001b[0;31m \u001b[0mp1\u001b[0m\u001b[0;34m.\u001b[0m\u001b[0m__home_loan_calc\u001b[0m\u001b[0;34m(\u001b[0m\u001b[0;36m500000\u001b[0m\u001b[0;34m,\u001b[0m\u001b[0;36m5\u001b[0m\u001b[0;34m)\u001b[0m\u001b[0;34m\u001b[0m\u001b[0;34m\u001b[0m\u001b[0m\n\u001b[0m",
            "\u001b[0;31mAttributeError\u001b[0m: 'Bank' object has no attribute '__home_loan_calc'"
          ]
        }
      ]
    },
    {
      "cell_type": "code",
      "source": [
        "print(p1.sample(500000,5))"
      ],
      "metadata": {
        "colab": {
          "base_uri": "https://localhost:8080/"
        },
        "id": "YOTzv3EzN5my",
        "outputId": "69bb177f-d99c-4f26-8fe9-8ae42bc7524b"
      },
      "execution_count": 102,
      "outputs": [
        {
          "output_type": "stream",
          "name": "stdout",
          "text": [
            "503750.0\n"
          ]
        }
      ]
    },
    {
      "cell_type": "code",
      "source": [
        "p2=Bank()"
      ],
      "metadata": {
        "id": "tVCJzIKHFjKR"
      },
      "execution_count": 56,
      "outputs": []
    },
    {
      "cell_type": "code",
      "source": [
        "p2.__rate_of_intrest = 0.50"
      ],
      "metadata": {
        "id": "9Jk0ZOngFkjW"
      },
      "execution_count": 60,
      "outputs": []
    },
    {
      "cell_type": "code",
      "source": [
        "p2.rate_of_intrest = 0.50"
      ],
      "metadata": {
        "id": "LQwOdQnFIUQE"
      },
      "execution_count": 61,
      "outputs": []
    },
    {
      "cell_type": "code",
      "source": [
        "p2.personal_loan_calc(500000,5)"
      ],
      "metadata": {
        "colab": {
          "base_uri": "https://localhost:8080/"
        },
        "id": "IsqyZ2wkFr4u",
        "outputId": "97899b74-a1e0-4981-bd8d-695fe5b44ce0"
      },
      "execution_count": 62,
      "outputs": [
        {
          "output_type": "execute_result",
          "data": {
            "text/plain": [
              "503750.0"
            ]
          },
          "metadata": {},
          "execution_count": 62
        }
      ]
    },
    {
      "cell_type": "code",
      "source": [
        "p2.home_loan_calc(500000,5)"
      ],
      "metadata": {
        "colab": {
          "base_uri": "https://localhost:8080/"
        },
        "id": "bJwNSLx_F0Ed",
        "outputId": "e5c72cfc-93c4-44b1-df5a-5ae9c7bb4d5e"
      },
      "execution_count": 63,
      "outputs": [
        {
          "output_type": "execute_result",
          "data": {
            "text/plain": [
              "503750.0"
            ]
          },
          "metadata": {},
          "execution_count": 63
        }
      ]
    },
    {
      "cell_type": "code",
      "source": [],
      "metadata": {
        "id": "eyhAYi4AF1dh"
      },
      "execution_count": null,
      "outputs": []
    },
    {
      "cell_type": "code",
      "source": [
        "class Bank():\n",
        "\n",
        "  def __init__(self):\n",
        "    self.__rate_of_intrest = 0.15\n",
        "\n",
        "  def get_rate_of_intrest(self):\n",
        "    return self.__rate_of_intrest\n",
        "\n",
        "  def set_rate_of_intrest(self,rate):\n",
        "    self.__rate_of_intrest = rate\n",
        "\n",
        "  def personal_loan_calc(self,amount,tenure):\n",
        "    p = amount\n",
        "    t = tenure\n",
        "    r = self.__rate_of_intrest\n",
        "    total_amount = p+(p*r*t)/100\n",
        "    return total_amount\n",
        "\n",
        "\n",
        "  def home_loan_calc(self,amount,tenure):\n",
        "    p = amount\n",
        "    t = tenure\n",
        "    r = self.__rate_of_intrest\n",
        "    total_amount = p+(p*r*t)/100\n",
        "    return total_amount"
      ],
      "metadata": {
        "id": "_6cklOTlJ9rD"
      },
      "execution_count": 73,
      "outputs": []
    },
    {
      "cell_type": "code",
      "source": [
        "p1=Bank()\n",
        "p1.personal_loan_calc(500000,5)"
      ],
      "metadata": {
        "colab": {
          "base_uri": "https://localhost:8080/"
        },
        "id": "Qrl7mB3iKDTO",
        "outputId": "7941488c-a946-47d3-d297-34eb5b1e7a1b"
      },
      "execution_count": 74,
      "outputs": [
        {
          "output_type": "execute_result",
          "data": {
            "text/plain": [
              "503750.0"
            ]
          },
          "metadata": {},
          "execution_count": 74
        }
      ]
    },
    {
      "cell_type": "code",
      "source": [
        "p1.home_loan_calc(500000,5)"
      ],
      "metadata": {
        "colab": {
          "base_uri": "https://localhost:8080/"
        },
        "id": "NCH4UD0mKJcE",
        "outputId": "e2f9b7b8-b379-4421-e603-32ed59c2411e"
      },
      "execution_count": 75,
      "outputs": [
        {
          "output_type": "execute_result",
          "data": {
            "text/plain": [
              "503750.0"
            ]
          },
          "metadata": {},
          "execution_count": 75
        }
      ]
    },
    {
      "cell_type": "code",
      "source": [
        "p1.get_rate_of_intrest()"
      ],
      "metadata": {
        "colab": {
          "base_uri": "https://localhost:8080/"
        },
        "id": "t1dvWgYwKL-8",
        "outputId": "728ccbb9-558c-439d-915a-77ff1f64401f"
      },
      "execution_count": 76,
      "outputs": [
        {
          "output_type": "execute_result",
          "data": {
            "text/plain": [
              "0.15"
            ]
          },
          "metadata": {},
          "execution_count": 76
        }
      ]
    },
    {
      "cell_type": "code",
      "source": [
        "p1.__rate_of_intrest"
      ],
      "metadata": {
        "colab": {
          "base_uri": "https://localhost:8080/",
          "height": 146
        },
        "id": "qdLkHY-YKQEw",
        "outputId": "7ec81a7e-33b1-4712-9df8-298676cd93f7"
      },
      "execution_count": 77,
      "outputs": [
        {
          "output_type": "error",
          "ename": "AttributeError",
          "evalue": "'Bank' object has no attribute '__rate_of_intrest'",
          "traceback": [
            "\u001b[0;31m---------------------------------------------------------------------------\u001b[0m",
            "\u001b[0;31mAttributeError\u001b[0m                            Traceback (most recent call last)",
            "\u001b[0;32m<ipython-input-77-d7d9e1648b99>\u001b[0m in \u001b[0;36m<cell line: 0>\u001b[0;34m()\u001b[0m\n\u001b[0;32m----> 1\u001b[0;31m \u001b[0mp1\u001b[0m\u001b[0;34m.\u001b[0m\u001b[0m__rate_of_intrest\u001b[0m\u001b[0;34m\u001b[0m\u001b[0;34m\u001b[0m\u001b[0m\n\u001b[0m",
            "\u001b[0;31mAttributeError\u001b[0m: 'Bank' object has no attribute '__rate_of_intrest'"
          ]
        }
      ]
    },
    {
      "cell_type": "code",
      "source": [
        "p1.set_rate_of_intrest(0.5)"
      ],
      "metadata": {
        "id": "A_7PrSXwKS6M"
      },
      "execution_count": 78,
      "outputs": []
    },
    {
      "cell_type": "code",
      "source": [
        "p1.personal_loan_calc(500000,5)"
      ],
      "metadata": {
        "colab": {
          "base_uri": "https://localhost:8080/"
        },
        "id": "BWp1emubKujz",
        "outputId": "70f6ac00-9e0f-48a0-bb2b-e97cab154ce7"
      },
      "execution_count": 79,
      "outputs": [
        {
          "output_type": "execute_result",
          "data": {
            "text/plain": [
              "512500.0"
            ]
          },
          "metadata": {},
          "execution_count": 79
        }
      ]
    },
    {
      "cell_type": "code",
      "source": [
        "p2=Bank()"
      ],
      "metadata": {
        "id": "IqDXfFroMMa2"
      },
      "execution_count": 80,
      "outputs": []
    },
    {
      "cell_type": "code",
      "source": [
        "p2.set_rate_of_intrest=0.5"
      ],
      "metadata": {
        "id": "7YDGbIEnLgUg"
      },
      "execution_count": 81,
      "outputs": []
    },
    {
      "cell_type": "markdown",
      "source": [
        "**Accessing/modifying private properties(Data,Methods) outisde the class by calling with class names**"
      ],
      "metadata": {
        "id": "RAze06S9N7aC"
      }
    },
    {
      "cell_type": "code",
      "source": [
        "class Bank():\n",
        "  def __init__(self):\n",
        "    self.__rate_of_intrest = 0.15\n",
        "    self.__a=20\n",
        "\n",
        "  def __sample(self):\n",
        "    print(\"I am sample function\")\n",
        "\n",
        "  def get_a(self):\n",
        "    return self.__a\n",
        "\n",
        "  def get_rate_of_intrest(self):\n",
        "    return self.__rate_of_intrest"
      ],
      "metadata": {
        "id": "8lvCGH5EMRIW"
      },
      "execution_count": 6,
      "outputs": []
    },
    {
      "cell_type": "code",
      "source": [
        "p1=Bank()"
      ],
      "metadata": {
        "id": "LeCtB8ufMsGX"
      },
      "execution_count": 7,
      "outputs": []
    },
    {
      "cell_type": "code",
      "source": [
        "p1.get_a()"
      ],
      "metadata": {
        "colab": {
          "base_uri": "https://localhost:8080/"
        },
        "id": "LenupYQEMwoS",
        "outputId": "5fba0428-8eaf-4be9-9d10-ab62dd8d6fb9"
      },
      "execution_count": 8,
      "outputs": [
        {
          "output_type": "execute_result",
          "data": {
            "text/plain": [
              "20"
            ]
          },
          "metadata": {},
          "execution_count": 8
        }
      ]
    },
    {
      "cell_type": "code",
      "source": [
        "p1.get_rate_of_intrest()"
      ],
      "metadata": {
        "colab": {
          "base_uri": "https://localhost:8080/"
        },
        "id": "z5FH2_wUNBmY",
        "outputId": "91f3ebe7-e47d-4473-a094-06e95a7d0289"
      },
      "execution_count": 9,
      "outputs": [
        {
          "output_type": "execute_result",
          "data": {
            "text/plain": [
              "0.15"
            ]
          },
          "metadata": {},
          "execution_count": 9
        }
      ]
    },
    {
      "cell_type": "code",
      "source": [
        "p1._Bank__a=50"
      ],
      "metadata": {
        "id": "pXZF8vn3NLyu"
      },
      "execution_count": 12,
      "outputs": []
    },
    {
      "cell_type": "code",
      "source": [
        "p1.get_a()"
      ],
      "metadata": {
        "colab": {
          "base_uri": "https://localhost:8080/"
        },
        "id": "r-KkIoeaNPFO",
        "outputId": "137705df-c42b-4a3f-c2e7-1f4e963be67c"
      },
      "execution_count": 13,
      "outputs": [
        {
          "output_type": "execute_result",
          "data": {
            "text/plain": [
              "50"
            ]
          },
          "metadata": {},
          "execution_count": 13
        }
      ]
    },
    {
      "cell_type": "code",
      "source": [
        "p1.__sample()"
      ],
      "metadata": {
        "colab": {
          "base_uri": "https://localhost:8080/",
          "height": 146
        },
        "id": "yj74BM3MNh4f",
        "outputId": "bde01b3f-ced0-4774-a8fd-1f9bb6148150"
      },
      "execution_count": 14,
      "outputs": [
        {
          "output_type": "error",
          "ename": "AttributeError",
          "evalue": "'Bank' object has no attribute '__sample'",
          "traceback": [
            "\u001b[0;31m---------------------------------------------------------------------------\u001b[0m",
            "\u001b[0;31mAttributeError\u001b[0m                            Traceback (most recent call last)",
            "\u001b[0;32m<ipython-input-14-e05fcdf9e3e1>\u001b[0m in \u001b[0;36m<cell line: 0>\u001b[0;34m()\u001b[0m\n\u001b[0;32m----> 1\u001b[0;31m \u001b[0mp1\u001b[0m\u001b[0;34m.\u001b[0m\u001b[0m__sample\u001b[0m\u001b[0;34m(\u001b[0m\u001b[0;34m)\u001b[0m\u001b[0;34m\u001b[0m\u001b[0;34m\u001b[0m\u001b[0m\n\u001b[0m",
            "\u001b[0;31mAttributeError\u001b[0m: 'Bank' object has no attribute '__sample'"
          ]
        }
      ]
    },
    {
      "cell_type": "code",
      "source": [
        "class Parent():\n",
        "\n",
        "  def __init__(self,a,b):\n",
        "    self.__a=a\n",
        "    self.b=b\n",
        "\n",
        "  def parent_sample1(self):\n",
        "    return \"I am parent public sample1\"\n",
        "\n",
        "  def __parent_sample2(self):\n",
        "    return \"I am parent private sample2\"\n",
        "\n",
        "  def parent_sample3(self):\n",
        "    return self.__parent_sample2()\n",
        "\n",
        "\n",
        "class Child(Parent):\n",
        "  def child_sample1(self):\n",
        "    return \"I am child public sample1\"\n",
        "\n",
        "  def child_sample2(self):\n",
        "    print(\"I am child class public sample2 method\")\n",
        "    return self.__parent_sample2()\n",
        "\n",
        "  def child_sample3(self):\n",
        "    return self.parent_sample3()"
      ],
      "metadata": {
        "id": "o9bwh16lN3LI"
      },
      "execution_count": 6,
      "outputs": []
    },
    {
      "cell_type": "code",
      "source": [
        "c=Child(2,3)"
      ],
      "metadata": {
        "id": "vdk1secwPXwy"
      },
      "execution_count": 7,
      "outputs": []
    },
    {
      "cell_type": "code",
      "source": [
        "c.child_sample1()"
      ],
      "metadata": {
        "colab": {
          "base_uri": "https://localhost:8080/",
          "height": 36
        },
        "id": "GrhjwVkMPiN4",
        "outputId": "84ac0258-a467-4293-d2df-afae53978ad6"
      },
      "execution_count": 8,
      "outputs": [
        {
          "output_type": "execute_result",
          "data": {
            "text/plain": [
              "'I am child public sample1'"
            ],
            "application/vnd.google.colaboratory.intrinsic+json": {
              "type": "string"
            }
          },
          "metadata": {},
          "execution_count": 8
        }
      ]
    },
    {
      "cell_type": "code",
      "source": [
        "c.parent_sample1()"
      ],
      "metadata": {
        "colab": {
          "base_uri": "https://localhost:8080/",
          "height": 36
        },
        "id": "f-qx823fP3xF",
        "outputId": "5bac6187-04b8-41d2-a3dc-d9ff076a57cf"
      },
      "execution_count": 9,
      "outputs": [
        {
          "output_type": "execute_result",
          "data": {
            "text/plain": [
              "'I am parent public sample1'"
            ],
            "application/vnd.google.colaboratory.intrinsic+json": {
              "type": "string"
            }
          },
          "metadata": {},
          "execution_count": 9
        }
      ]
    },
    {
      "cell_type": "code",
      "source": [
        "c.child_sample2()"
      ],
      "metadata": {
        "colab": {
          "base_uri": "https://localhost:8080/",
          "height": 292
        },
        "id": "JkIUXQZ6QG1C",
        "outputId": "9efd12b3-2dad-4788-8e69-3767461f0d28"
      },
      "execution_count": 10,
      "outputs": [
        {
          "output_type": "stream",
          "name": "stdout",
          "text": [
            "I am child class public sample2 method\n"
          ]
        },
        {
          "output_type": "error",
          "ename": "AttributeError",
          "evalue": "'Child' object has no attribute '_Child__parent_sample2'",
          "traceback": [
            "\u001b[0;31m---------------------------------------------------------------------------\u001b[0m",
            "\u001b[0;31mAttributeError\u001b[0m                            Traceback (most recent call last)",
            "\u001b[0;32m<ipython-input-10-6ab12245f1d6>\u001b[0m in \u001b[0;36m<cell line: 0>\u001b[0;34m()\u001b[0m\n\u001b[0;32m----> 1\u001b[0;31m \u001b[0mc\u001b[0m\u001b[0;34m.\u001b[0m\u001b[0mchild_sample2\u001b[0m\u001b[0;34m(\u001b[0m\u001b[0;34m)\u001b[0m\u001b[0;34m\u001b[0m\u001b[0;34m\u001b[0m\u001b[0m\n\u001b[0m",
            "\u001b[0;32m<ipython-input-6-363ed3a13312>\u001b[0m in \u001b[0;36mchild_sample2\u001b[0;34m(self)\u001b[0m\n\u001b[1;32m     21\u001b[0m   \u001b[0;32mdef\u001b[0m \u001b[0mchild_sample2\u001b[0m\u001b[0;34m(\u001b[0m\u001b[0mself\u001b[0m\u001b[0;34m)\u001b[0m\u001b[0;34m:\u001b[0m\u001b[0;34m\u001b[0m\u001b[0;34m\u001b[0m\u001b[0m\n\u001b[1;32m     22\u001b[0m     \u001b[0mprint\u001b[0m\u001b[0;34m(\u001b[0m\u001b[0;34m\"I am child class public sample2 method\"\u001b[0m\u001b[0;34m)\u001b[0m\u001b[0;34m\u001b[0m\u001b[0;34m\u001b[0m\u001b[0m\n\u001b[0;32m---> 23\u001b[0;31m     \u001b[0;32mreturn\u001b[0m \u001b[0mself\u001b[0m\u001b[0;34m.\u001b[0m\u001b[0m__parent_sample2\u001b[0m\u001b[0;34m(\u001b[0m\u001b[0;34m)\u001b[0m\u001b[0;34m\u001b[0m\u001b[0;34m\u001b[0m\u001b[0m\n\u001b[0m\u001b[1;32m     24\u001b[0m \u001b[0;34m\u001b[0m\u001b[0m\n\u001b[1;32m     25\u001b[0m   \u001b[0;32mdef\u001b[0m \u001b[0mchild_sample3\u001b[0m\u001b[0;34m(\u001b[0m\u001b[0mself\u001b[0m\u001b[0;34m)\u001b[0m\u001b[0;34m:\u001b[0m\u001b[0;34m\u001b[0m\u001b[0;34m\u001b[0m\u001b[0m\n",
            "\u001b[0;31mAttributeError\u001b[0m: 'Child' object has no attribute '_Child__parent_sample2'"
          ]
        }
      ]
    },
    {
      "cell_type": "code",
      "source": [
        "c.child_sample3()"
      ],
      "metadata": {
        "colab": {
          "base_uri": "https://localhost:8080/",
          "height": 36
        },
        "id": "qnmJzfWFRZqI",
        "outputId": "16f8ea0e-6240-4553-eb20-875de4004d31"
      },
      "execution_count": 15,
      "outputs": [
        {
          "output_type": "execute_result",
          "data": {
            "text/plain": [
              "'I am parent private sample2'"
            ],
            "application/vnd.google.colaboratory.intrinsic+json": {
              "type": "string"
            }
          },
          "metadata": {},
          "execution_count": 15
        }
      ]
    },
    {
      "cell_type": "code",
      "source": [
        "class Parent():\n",
        "\n",
        "  def __init__(self,a,b):\n",
        "    self.__a=a\n",
        "    self.b=b\n",
        "\n",
        "  def parent_sample1(self):\n",
        "    return \"I am parent public sample1\"\n",
        "\n",
        "  def __parent_sample2(self):\n",
        "    return \"I am parent private sample2\"\n",
        "\n",
        "  def parent_sample3(self):\n",
        "    return self.__parent_sample2()\n",
        "\n",
        "\n",
        "class Child(Parent):\n",
        "  def __init__(self,a,b,c):\n",
        "\n",
        "    self.c=c\n",
        "\n",
        "  def child_sample1(self):\n",
        "    return \"I am child public sample1\"\n",
        "\n",
        "  def child_sample2(self):\n",
        "    print(\"I am child class public sample2 method\")\n",
        "    return self.__parent_sample2()\n",
        "\n",
        "  def child_sample3(self):\n",
        "    return self.parent_sample3()"
      ],
      "metadata": {
        "id": "mS0nR0sgSFHq"
      },
      "execution_count": null,
      "outputs": []
    },
    {
      "cell_type": "code",
      "source": [
        "class Parent():\n",
        "\n",
        "  def __init__(self):\n",
        "    self.parent_amount =1000000\n",
        "    return self.parent_amount\n",
        "\n",
        "  def property(self):\n",
        "    print(\"100 acres\")\n",
        "\n",
        "class Child(Parent):\n",
        "  def __init__(self):\n",
        "    self.amount=10000\n",
        "    print(super().__init__())\n",
        "    print(self.amount)\n",
        "\n",
        "  def property(self):\n",
        "    super().property()\n",
        "    print(\"10 acres\")\n",
        "\n",
        "\n",
        ""
      ],
      "metadata": {
        "id": "DxEDbWuPUUXA"
      },
      "execution_count": 31,
      "outputs": []
    },
    {
      "cell_type": "code",
      "source": [
        "c=Child()"
      ],
      "metadata": {
        "colab": {
          "base_uri": "https://localhost:8080/"
        },
        "id": "ecdRoUnJU5Mw",
        "outputId": "e7652985-8eb5-4570-cf21-c4f60af8dd32"
      },
      "execution_count": 32,
      "outputs": [
        {
          "output_type": "stream",
          "name": "stdout",
          "text": [
            "1000000\n",
            "10000\n"
          ]
        }
      ]
    },
    {
      "cell_type": "code",
      "source": [
        "c.property()"
      ],
      "metadata": {
        "colab": {
          "base_uri": "https://localhost:8080/"
        },
        "id": "icsiM2guVCkU",
        "outputId": "878c89a6-dc85-45a3-a2d1-f51d1134d877"
      },
      "execution_count": 33,
      "outputs": [
        {
          "output_type": "stream",
          "name": "stdout",
          "text": [
            "100 acres\n",
            "10 acres\n"
          ]
        }
      ]
    },
    {
      "cell_type": "markdown",
      "source": [
        "Method overlaoding"
      ],
      "metadata": {
        "id": "gKvl2GM_fY6b"
      }
    },
    {
      "cell_type": "code",
      "source": [
        "class Parent:\n",
        "\n",
        "  def sample(self,a):\n",
        "    self.numbers=a\n",
        "    print(self.numbers)\n",
        "\n"
      ],
      "metadata": {
        "id": "cNDIyVQRW1QF"
      },
      "execution_count": 54,
      "outputs": []
    },
    {
      "cell_type": "code",
      "source": [
        "p=Parent()"
      ],
      "metadata": {
        "id": "kCLwuHYAfnaJ"
      },
      "execution_count": 55,
      "outputs": []
    },
    {
      "cell_type": "code",
      "source": [
        "p.sample(a=2)"
      ],
      "metadata": {
        "colab": {
          "base_uri": "https://localhost:8080/"
        },
        "id": "EcnHfKlCfpHg",
        "outputId": "5749bcc5-1be5-4234-e11f-a0b3c190fc94"
      },
      "execution_count": 56,
      "outputs": [
        {
          "output_type": "stream",
          "name": "stdout",
          "text": [
            "2\n"
          ]
        }
      ]
    },
    {
      "cell_type": "code",
      "source": [
        "p.sample(a=2,b=3)"
      ],
      "metadata": {
        "colab": {
          "base_uri": "https://localhost:8080/",
          "height": 146
        },
        "id": "Bh3KU1xBfsCh",
        "outputId": "03d920bf-bbc9-49f1-90f3-4703cbf90be4"
      },
      "execution_count": 57,
      "outputs": [
        {
          "output_type": "error",
          "ename": "TypeError",
          "evalue": "Parent.sample() got an unexpected keyword argument 'b'",
          "traceback": [
            "\u001b[0;31m---------------------------------------------------------------------------\u001b[0m",
            "\u001b[0;31mTypeError\u001b[0m                                 Traceback (most recent call last)",
            "\u001b[0;32m<ipython-input-57-8ec5a94c5373>\u001b[0m in \u001b[0;36m<cell line: 0>\u001b[0;34m()\u001b[0m\n\u001b[0;32m----> 1\u001b[0;31m \u001b[0mp\u001b[0m\u001b[0;34m.\u001b[0m\u001b[0msample\u001b[0m\u001b[0;34m(\u001b[0m\u001b[0ma\u001b[0m\u001b[0;34m=\u001b[0m\u001b[0;36m2\u001b[0m\u001b[0;34m,\u001b[0m\u001b[0mb\u001b[0m\u001b[0;34m=\u001b[0m\u001b[0;36m3\u001b[0m\u001b[0;34m)\u001b[0m\u001b[0;34m\u001b[0m\u001b[0;34m\u001b[0m\u001b[0m\n\u001b[0m",
            "\u001b[0;31mTypeError\u001b[0m: Parent.sample() got an unexpected keyword argument 'b'"
          ]
        }
      ]
    },
    {
      "cell_type": "code",
      "source": [
        "p.sample(a=1,b=2,c=3,d=4,e=5)"
      ],
      "metadata": {
        "colab": {
          "base_uri": "https://localhost:8080/",
          "height": 146
        },
        "id": "vQUvdR_Lft6e",
        "outputId": "61110ab3-725d-4cb1-b545-7688aef74eaf"
      },
      "execution_count": 58,
      "outputs": [
        {
          "output_type": "error",
          "ename": "TypeError",
          "evalue": "Parent.sample() got an unexpected keyword argument 'b'",
          "traceback": [
            "\u001b[0;31m---------------------------------------------------------------------------\u001b[0m",
            "\u001b[0;31mTypeError\u001b[0m                                 Traceback (most recent call last)",
            "\u001b[0;32m<ipython-input-58-67ecb8944455>\u001b[0m in \u001b[0;36m<cell line: 0>\u001b[0;34m()\u001b[0m\n\u001b[0;32m----> 1\u001b[0;31m \u001b[0mp\u001b[0m\u001b[0;34m.\u001b[0m\u001b[0msample\u001b[0m\u001b[0;34m(\u001b[0m\u001b[0ma\u001b[0m\u001b[0;34m=\u001b[0m\u001b[0;36m1\u001b[0m\u001b[0;34m,\u001b[0m\u001b[0mb\u001b[0m\u001b[0;34m=\u001b[0m\u001b[0;36m2\u001b[0m\u001b[0;34m,\u001b[0m\u001b[0mc\u001b[0m\u001b[0;34m=\u001b[0m\u001b[0;36m3\u001b[0m\u001b[0;34m,\u001b[0m\u001b[0md\u001b[0m\u001b[0;34m=\u001b[0m\u001b[0;36m4\u001b[0m\u001b[0;34m,\u001b[0m\u001b[0me\u001b[0m\u001b[0;34m=\u001b[0m\u001b[0;36m5\u001b[0m\u001b[0;34m)\u001b[0m\u001b[0;34m\u001b[0m\u001b[0;34m\u001b[0m\u001b[0m\n\u001b[0m",
            "\u001b[0;31mTypeError\u001b[0m: Parent.sample() got an unexpected keyword argument 'b'"
          ]
        }
      ]
    },
    {
      "cell_type": "markdown",
      "source": [
        "operator overloading"
      ],
      "metadata": {
        "id": "TXWHm66Egq17"
      }
    },
    {
      "cell_type": "code",
      "source": [
        "2+3"
      ],
      "metadata": {
        "colab": {
          "base_uri": "https://localhost:8080/"
        },
        "id": "xj7NQbNPfwD-",
        "outputId": "e7156082-e2e6-4f2a-80aa-e20a74f584af"
      },
      "execution_count": 59,
      "outputs": [
        {
          "output_type": "execute_result",
          "data": {
            "text/plain": [
              "5"
            ]
          },
          "metadata": {},
          "execution_count": 59
        }
      ]
    },
    {
      "cell_type": "code",
      "source": [
        "\"data\" + \"dreamers\""
      ],
      "metadata": {
        "colab": {
          "base_uri": "https://localhost:8080/",
          "height": 36
        },
        "id": "2PlJlIbCgtjk",
        "outputId": "4dd631b3-2db7-448d-945c-ab4cd4232c02"
      },
      "execution_count": 60,
      "outputs": [
        {
          "output_type": "execute_result",
          "data": {
            "text/plain": [
              "'datadreamers'"
            ],
            "application/vnd.google.colaboratory.intrinsic+json": {
              "type": "string"
            }
          },
          "metadata": {},
          "execution_count": 60
        }
      ]
    },
    {
      "cell_type": "code",
      "source": [
        "[1,2,3,4]+[4,5,6,7]"
      ],
      "metadata": {
        "colab": {
          "base_uri": "https://localhost:8080/"
        },
        "id": "O5N--ljRgvyp",
        "outputId": "cd243b65-25ee-464b-9c21-5162011989da"
      },
      "execution_count": 61,
      "outputs": [
        {
          "output_type": "execute_result",
          "data": {
            "text/plain": [
              "[1, 2, 3, 4, 4, 5, 6, 7]"
            ]
          },
          "metadata": {},
          "execution_count": 61
        }
      ]
    },
    {
      "cell_type": "code",
      "source": [],
      "metadata": {
        "id": "AUUK7A6cg4Q-"
      },
      "execution_count": null,
      "outputs": []
    }
  ]
}