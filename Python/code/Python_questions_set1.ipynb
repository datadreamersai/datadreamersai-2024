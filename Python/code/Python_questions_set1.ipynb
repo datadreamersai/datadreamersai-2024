{
  "nbformat": 4,
  "nbformat_minor": 0,
  "metadata": {
    "colab": {
      "provenance": []
    },
    "kernelspec": {
      "name": "python3",
      "display_name": "Python 3"
    },
    "language_info": {
      "name": "python"
    }
  },
  "cells": [
    {
      "cell_type": "markdown",
      "source": [
        "Q1. Removing duplicates from list"
      ],
      "metadata": {
        "id": "9nLemhtD8LXo"
      }
    },
    {
      "cell_type": "code",
      "source": [
        "l=[1,2,3,4,1,3,5]\n",
        "#o/p: [1,2,3,4,5]\n",
        "\n",
        "#method1 : Data Type conversion\n",
        "s=set(l)\n",
        "x=list(s)\n",
        "print(x)"
      ],
      "metadata": {
        "colab": {
          "base_uri": "https://localhost:8080/"
        },
        "id": "M8uCxedi8P4T",
        "outputId": "e791d884-31d8-4132-bfcc-2d24d0eb8bd9"
      },
      "execution_count": null,
      "outputs": [
        {
          "output_type": "stream",
          "name": "stdout",
          "text": [
            "[1, 2, 3, 4, 5]\n"
          ]
        }
      ]
    },
    {
      "cell_type": "code",
      "source": [
        "s=set(l)\n",
        "print(list(s))"
      ],
      "metadata": {
        "colab": {
          "base_uri": "https://localhost:8080/"
        },
        "id": "pKsfOmOV9WfE",
        "outputId": "763313cd-ab2b-482b-dcac-4c45516a830a"
      },
      "execution_count": null,
      "outputs": [
        {
          "output_type": "stream",
          "name": "stdout",
          "text": [
            "[1, 2, 3, 4, 5]\n"
          ]
        }
      ]
    },
    {
      "cell_type": "code",
      "source": [
        "print(list(set(l)))"
      ],
      "metadata": {
        "colab": {
          "base_uri": "https://localhost:8080/"
        },
        "id": "7Og48n7a928h",
        "outputId": "5d0c003f-8139-4286-dd8c-eed24662e166"
      },
      "execution_count": null,
      "outputs": [
        {
          "output_type": "stream",
          "name": "stdout",
          "text": [
            "[1, 2, 3, 4, 5]\n"
          ]
        }
      ]
    },
    {
      "cell_type": "code",
      "source": [
        "#method2: using for loop\n",
        "\n",
        "a=[]\n",
        "\n",
        "for i in l:\n",
        "  if i not in a:\n",
        "    a.append(i)\n",
        "print(a)"
      ],
      "metadata": {
        "colab": {
          "base_uri": "https://localhost:8080/"
        },
        "id": "Dyl5uVwR97A6",
        "outputId": "7c22346a-a3d4-4a7a-ae34-a5a653c0460d"
      },
      "execution_count": null,
      "outputs": [
        {
          "output_type": "stream",
          "name": "stdout",
          "text": [
            "[1, 2, 3, 4, 5]\n"
          ]
        }
      ]
    },
    {
      "cell_type": "markdown",
      "source": [
        "Q2. Reverse a string"
      ],
      "metadata": {
        "id": "bfkPRZVCCjpM"
      }
    },
    {
      "cell_type": "code",
      "source": [
        "#method1\n",
        "\n",
        "s=\"data\"\n",
        "print(s[::-1])"
      ],
      "metadata": {
        "colab": {
          "base_uri": "https://localhost:8080/"
        },
        "id": "pEaYvNSPCnPN",
        "outputId": "1023cfa5-f6c9-477c-b722-650054f4475b"
      },
      "execution_count": null,
      "outputs": [
        {
          "output_type": "stream",
          "name": "stdout",
          "text": [
            "atad\n"
          ]
        }
      ]
    },
    {
      "cell_type": "code",
      "source": [
        "#method2\n",
        "\n",
        "s=\"data\"\n",
        "x=\"\"\n",
        "start = len(s)-1\n",
        "end=-1\n",
        "for i in range(start,end,-1):\n",
        "  x=x+s[i]\n",
        "print(x)\n"
      ],
      "metadata": {
        "colab": {
          "base_uri": "https://localhost:8080/"
        },
        "id": "Kv9lvApxCsD-",
        "outputId": "59eddc77-41e7-47fc-feb0-7fb9b9357715"
      },
      "execution_count": null,
      "outputs": [
        {
          "output_type": "stream",
          "name": "stdout",
          "text": [
            "atad\n"
          ]
        }
      ]
    },
    {
      "cell_type": "markdown",
      "source": [
        "Q3. Check given string is palindrome or not"
      ],
      "metadata": {
        "id": "OePnwZkOJTl4"
      }
    },
    {
      "cell_type": "code",
      "source": [
        "s=input(\"Please enter the string: \")\n",
        "if s==s[::-1]:\n",
        "  print(\"Given string is palindrome\")\n",
        "else:\n",
        "  print(\"Given string is not palindrome\")"
      ],
      "metadata": {
        "colab": {
          "base_uri": "https://localhost:8080/"
        },
        "id": "WvqC4UYWGb3T",
        "outputId": "4333d253-e710-4b97-f8b6-3a4e444bded7"
      },
      "execution_count": null,
      "outputs": [
        {
          "output_type": "stream",
          "name": "stdout",
          "text": [
            "Please enter the string: malayalam\n",
            "Given string is palindrome\n"
          ]
        }
      ]
    },
    {
      "cell_type": "code",
      "source": [
        "s=input(\"Please enter the string: \")\n",
        "x=\"\"\n",
        "start = len(s)-1\n",
        "end=-1\n",
        "for i in range(start,end,-1):\n",
        "  x=x+s[i]\n",
        "print(x)\n",
        "if x==s:\n",
        "  print(\"Given string is palindrome\")\n",
        "else:\n",
        "  print(\"Given string is not palindrome\")"
      ],
      "metadata": {
        "colab": {
          "base_uri": "https://localhost:8080/"
        },
        "id": "wnoOj5XLKKrJ",
        "outputId": "34aa4913-95b6-4d3f-c270-fb5422a69c95"
      },
      "execution_count": null,
      "outputs": [
        {
          "output_type": "stream",
          "name": "stdout",
          "text": [
            "Please enter the string: malayalam\n",
            "malayalam\n",
            "Given string is palindrome\n"
          ]
        }
      ]
    },
    {
      "cell_type": "markdown",
      "source": [
        "![image.png](data:image/png;base64,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)"
      ],
      "metadata": {
        "id": "FbXEzBqODerP"
      }
    },
    {
      "cell_type": "code",
      "source": [
        "s1=input(\"Enter the string1: \")\n",
        "s2=input(\"Enter the string2: \")\n",
        "s1_len=len(s1)\n",
        "s2_len=len(s2)\n",
        "if s1_len==s2_len:\n",
        "  s1_sorted = sorted(s1)\n",
        "  s2_sorted=sorted(s2)\n",
        "  if s1_sorted==s2_sorted:\n",
        "    print(\"Given strings are anagrams\")\n",
        "  else:\n",
        "    print(\"Given strings are not anagrams\")\n",
        "else:\n",
        "  print(\"Given strings are not anagrams\")"
      ],
      "metadata": {
        "colab": {
          "base_uri": "https://localhost:8080/"
        },
        "id": "qMM41CjuDkE9",
        "outputId": "31d56210-83f5-4227-8152-cff08f1c4953"
      },
      "execution_count": 27,
      "outputs": [
        {
          "output_type": "stream",
          "name": "stdout",
          "text": [
            "Enter the string1: abbcd\n",
            "Enter the string2: abccd\n",
            "Given strings are not anagrams\n"
          ]
        }
      ]
    },
    {
      "cell_type": "code",
      "source": [
        "from collections import Counter\n",
        "s1=input(\"Enter the string1: \")\n",
        "s2=input(\"Enter the string2: \")\n",
        "s1_len=len(s1)\n",
        "s2_len=len(s2)\n",
        "if s1_len==s2_len:\n",
        "  if Counter(s1)==Counter(s2):\n",
        "    print(\"Given strings are anagrams\")\n",
        "  else:\n",
        "    print(\"Given strings are not anagrams\")\n",
        "else:\n",
        "  print(\"Given strings are not anagrams\")\n"
      ],
      "metadata": {
        "colab": {
          "base_uri": "https://localhost:8080/"
        },
        "id": "iaCZRUGEFIjm",
        "outputId": "2bc17238-4697-4892-9ac5-2f03a64e5dbb"
      },
      "execution_count": 33,
      "outputs": [
        {
          "output_type": "stream",
          "name": "stdout",
          "text": [
            "Enter the string1: abccd\n",
            "Enter the string2: abbcd\n",
            "Given strings are not anagrams\n"
          ]
        }
      ]
    },
    {
      "cell_type": "markdown",
      "source": [
        "Q5. Factorial of a given number"
      ],
      "metadata": {
        "id": "hC8F7S5HNW-p"
      }
    },
    {
      "cell_type": "code",
      "source": [
        "#for loop\n",
        "\n",
        "num = int(input(\"Please enter the number: \"))\n",
        "fact=1\n",
        "for i in range(num,0,-1):\n",
        "  fact=fact*i\n",
        "print(fact)"
      ],
      "metadata": {
        "colab": {
          "base_uri": "https://localhost:8080/"
        },
        "id": "qQBr7fUyI_s1",
        "outputId": "8a7c400a-c63e-44f3-aac0-d9e2bfd9b368"
      },
      "execution_count": 11,
      "outputs": [
        {
          "output_type": "stream",
          "name": "stdout",
          "text": [
            "Please enter the number: 10\n",
            "3628800\n"
          ]
        }
      ]
    },
    {
      "cell_type": "code",
      "source": [
        "#while loop\n",
        "\n",
        "num = int(input(\"Please enter the number: \"))\n",
        "fact=1\n",
        "while num>0:\n",
        "  fact=fact*num\n",
        "  num=num-1\n",
        "print(fact)\n",
        "\n"
      ],
      "metadata": {
        "colab": {
          "base_uri": "https://localhost:8080/"
        },
        "id": "UqnYktAONxeo",
        "outputId": "5a4063cc-4779-4154-b794-0e71475de096"
      },
      "execution_count": 14,
      "outputs": [
        {
          "output_type": "stream",
          "name": "stdout",
          "text": [
            "Please enter the number: 10\n",
            "3628800\n"
          ]
        }
      ]
    },
    {
      "cell_type": "code",
      "source": [
        "#incrementing for loop\n",
        "num = int(input(\"Please enter the number: \"))\n",
        "fact=1\n",
        "for i in range(1,num+1):\n",
        "  fact=fact*i\n",
        "print(fact)"
      ],
      "metadata": {
        "colab": {
          "base_uri": "https://localhost:8080/"
        },
        "id": "5XkAe1BIN8LB",
        "outputId": "6d4dd014-36e9-4592-9803-374c227e26e0"
      },
      "execution_count": 17,
      "outputs": [
        {
          "output_type": "stream",
          "name": "stdout",
          "text": [
            "Please enter the number: 10\n",
            "3628800\n"
          ]
        }
      ]
    },
    {
      "cell_type": "markdown",
      "source": [
        "Q6. Frequency Count"
      ],
      "metadata": {
        "id": "gwTQd7r1QjyL"
      }
    },
    {
      "cell_type": "code",
      "source": [
        "from collections import Counter\n",
        "l=[\"a\",\"b\",\"c\",\"a\",\"b\"]\n",
        "print(Counter(l))"
      ],
      "metadata": {
        "colab": {
          "base_uri": "https://localhost:8080/"
        },
        "id": "bSH-pbxePMKB",
        "outputId": "0664cbb7-3944-448b-a090-4159847301af"
      },
      "execution_count": 23,
      "outputs": [
        {
          "output_type": "stream",
          "name": "stdout",
          "text": [
            "Counter({'a': 2, 'b': 2, 'c': 1})\n"
          ]
        }
      ]
    },
    {
      "cell_type": "code",
      "source": [
        "#using dictionary concept\n",
        "l=[1,2,3,1,2,3]\n",
        "d={}\n",
        "for i in l:\n",
        "  if i in d:\n",
        "    d[i]=d[i]+1\n",
        "  else:\n",
        "    d[i]=1\n",
        "print(d)"
      ],
      "metadata": {
        "colab": {
          "base_uri": "https://localhost:8080/"
        },
        "id": "0EVKmjWdQzj6",
        "outputId": "a58ae5b9-3604-4bf8-e9a8-e69e311843da"
      },
      "execution_count": 25,
      "outputs": [
        {
          "output_type": "stream",
          "name": "stdout",
          "text": [
            "{1: 2, 2: 2, 3: 2}\n"
          ]
        }
      ]
    },
    {
      "cell_type": "markdown",
      "source": [
        "Find largest number"
      ],
      "metadata": {
        "id": "fXNAd5_nsC2O"
      }
    },
    {
      "cell_type": "code",
      "source": [
        "#using max\n",
        "l=[3,2,5,243,99,1000]\n",
        "print(max(l))"
      ],
      "metadata": {
        "colab": {
          "base_uri": "https://localhost:8080/"
        },
        "id": "9q3fXMZITJfY",
        "outputId": "53691b16-424c-4b8a-c806-cda49a3e3fbf"
      },
      "execution_count": 5,
      "outputs": [
        {
          "output_type": "stream",
          "name": "stdout",
          "text": [
            "1000\n"
          ]
        }
      ]
    },
    {
      "cell_type": "code",
      "source": [
        "#using sorted\n",
        "sorted_l = sorted(l)\n",
        "print(sorted_l)\n",
        "print(sorted_l[-1])"
      ],
      "metadata": {
        "colab": {
          "base_uri": "https://localhost:8080/"
        },
        "id": "mHpJoiJcsNA0",
        "outputId": "defad44d-3976-42b2-bd45-c05cefa18b00"
      },
      "execution_count": 6,
      "outputs": [
        {
          "output_type": "stream",
          "name": "stdout",
          "text": [
            "[2, 3, 5, 99, 243, 1000]\n",
            "1000\n"
          ]
        }
      ]
    },
    {
      "cell_type": "markdown",
      "source": [
        "Find second largest number"
      ],
      "metadata": {
        "id": "PUfW-jEMtEnz"
      }
    },
    {
      "cell_type": "code",
      "source": [
        "#using sorted\n",
        "l=[200,300,500,700,900,1000,101]\n",
        "x=sorted(l)\n",
        "print(x)\n",
        "print(x[-2])"
      ],
      "metadata": {
        "colab": {
          "base_uri": "https://localhost:8080/"
        },
        "id": "48TQpCacscFn",
        "outputId": "7f0f71bb-4388-4da8-85a7-d9d809b066e5"
      },
      "execution_count": 9,
      "outputs": [
        {
          "output_type": "stream",
          "name": "stdout",
          "text": [
            "[101, 200, 300, 500, 700, 900, 1000]\n",
            "900\n"
          ]
        }
      ]
    },
    {
      "cell_type": "code",
      "source": [
        "#not using inbuilt func/method\n",
        "\n",
        "l=[200,300,500,700,900,1000,101]\n",
        "\n",
        "first_larg=-1234\n",
        "second_larg=-3456\n",
        "\n",
        "for i in l:\n",
        "  if i>first_larg:\n",
        "    second_larg=first_larg\n",
        "    first_larg=i\n",
        "  elif i>second_larg:\n",
        "    second_larg=i\n",
        "print(second_larg)\n"
      ],
      "metadata": {
        "colab": {
          "base_uri": "https://localhost:8080/"
        },
        "id": "Gr7ue-ckuqvZ",
        "outputId": "e6c3b823-75a6-4475-de5c-a64897348359"
      },
      "execution_count": 11,
      "outputs": [
        {
          "output_type": "stream",
          "name": "stdout",
          "text": [
            "900\n"
          ]
        }
      ]
    },
    {
      "cell_type": "markdown",
      "source": [
        "Two sum"
      ],
      "metadata": {
        "id": "hcMVugkz3-aF"
      }
    },
    {
      "cell_type": "code",
      "source": [
        "l=[2,3,9,13,1,5]\n",
        "two_sum=6\n",
        "length = len(l)\n",
        "x=False\n",
        "for i in range(length-1):\n",
        "  for j in range(i+1,length):\n",
        "    if l[i]+l[j]==two_sum:\n",
        "      print(l[i],l[j])\n",
        "      x=True\n",
        "      break\n",
        "if x==False:\n",
        "  print(\"No such pair found\")\n",
        ""
      ],
      "metadata": {
        "colab": {
          "base_uri": "https://localhost:8080/"
        },
        "id": "aKKlYn09ziqR",
        "outputId": "8833cb5a-d961-467f-d5a6-b8ab565a732d"
      },
      "execution_count": 19,
      "outputs": [
        {
          "output_type": "stream",
          "name": "stdout",
          "text": [
            "1 5\n"
          ]
        }
      ]
    },
    {
      "cell_type": "code",
      "source": [
        "l=[2,3,9,7,1]\n",
        "d={}\n",
        "two_sum=10\n",
        "for i in range(len(l)):\n",
        "  if (two_sum-l[i]) not in d:\n",
        "    d[l[i]]=i\n",
        "  else:\n",
        "    print(l[i],two_sum-l[i])\n",
        ""
      ],
      "metadata": {
        "colab": {
          "base_uri": "https://localhost:8080/"
        },
        "id": "OKbrTx514a1o",
        "outputId": "e7569857-d399-449c-86d7-11c61e1a95b0"
      },
      "execution_count": 23,
      "outputs": [
        {
          "output_type": "stream",
          "name": "stdout",
          "text": [
            "7 3\n",
            "1 9\n"
          ]
        }
      ]
    },
    {
      "cell_type": "code",
      "source": [],
      "metadata": {
        "id": "laO2tlcMtEes"
      },
      "execution_count": null,
      "outputs": []
    }
  ]
}